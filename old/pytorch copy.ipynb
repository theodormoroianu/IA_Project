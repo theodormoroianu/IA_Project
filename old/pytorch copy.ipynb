{
  "nbformat": 4,
  "nbformat_minor": 0,
  "metadata": {
    "language_info": {
      "codemirror_mode": {
        "name": "ipython",
        "version": 3
      },
      "file_extension": ".py",
      "mimetype": "text/x-python",
      "name": "python",
      "nbconvert_exporter": "python",
      "pygments_lexer": "ipython3",
      "version": "3.8.5"
    },
    "orig_nbformat": 2,
    "kernelspec": {
      "name": "python38564bitbasecondab865762414e54dc598cfd55a037a26d2",
      "display_name": "Python 3.8.5 64-bit ('base': conda)"
    },
    "colab": {
      "name": "Dream Transfer.ipynb",
      "provenance": [],
      "collapsed_sections": []
    },
    "accelerator": "GPU",
    "widgets": {
      "application/vnd.jupyter.widget-state+json": {
        "86a10b295dab4413a7b818dfe981af28": {
          "model_module": "@jupyter-widgets/controls",
          "model_name": "HBoxModel",
          "state": {
            "_view_name": "HBoxView",
            "_dom_classes": [],
            "_model_name": "HBoxModel",
            "_view_module": "@jupyter-widgets/controls",
            "_model_module_version": "1.5.0",
            "_view_count": null,
            "_view_module_version": "1.5.0",
            "box_style": "",
            "layout": "IPY_MODEL_6bb6939bae1b4757beae02e1819cb04b",
            "_model_module": "@jupyter-widgets/controls",
            "children": [
              "IPY_MODEL_d9c0ac05d6594d35ad0a0cee18e63fcf",
              "IPY_MODEL_eeef5bf03fce4e90bf00d07cbac95c32"
            ]
          }
        },
        "6bb6939bae1b4757beae02e1819cb04b": {
          "model_module": "@jupyter-widgets/base",
          "model_name": "LayoutModel",
          "state": {
            "_view_name": "LayoutView",
            "grid_template_rows": null,
            "right": null,
            "justify_content": null,
            "_view_module": "@jupyter-widgets/base",
            "overflow": null,
            "_model_module_version": "1.2.0",
            "_view_count": null,
            "flex_flow": null,
            "width": null,
            "min_width": null,
            "border": null,
            "align_items": null,
            "bottom": null,
            "_model_module": "@jupyter-widgets/base",
            "top": null,
            "grid_column": null,
            "overflow_y": null,
            "overflow_x": null,
            "grid_auto_flow": null,
            "grid_area": null,
            "grid_template_columns": null,
            "flex": null,
            "_model_name": "LayoutModel",
            "justify_items": null,
            "grid_row": null,
            "max_height": null,
            "align_content": null,
            "visibility": null,
            "align_self": null,
            "height": null,
            "min_height": null,
            "padding": null,
            "grid_auto_rows": null,
            "grid_gap": null,
            "max_width": null,
            "order": null,
            "_view_module_version": "1.2.0",
            "grid_template_areas": null,
            "object_position": null,
            "object_fit": null,
            "grid_auto_columns": null,
            "margin": null,
            "display": null,
            "left": null
          }
        },
        "d9c0ac05d6594d35ad0a0cee18e63fcf": {
          "model_module": "@jupyter-widgets/controls",
          "model_name": "FloatProgressModel",
          "state": {
            "_view_name": "ProgressView",
            "style": "IPY_MODEL_53888e848b8c4a56aed6748c10085512",
            "_dom_classes": [],
            "description": "100%",
            "_model_name": "FloatProgressModel",
            "bar_style": "success",
            "max": 46827520,
            "_view_module": "@jupyter-widgets/controls",
            "_model_module_version": "1.5.0",
            "value": 46827520,
            "_view_count": null,
            "_view_module_version": "1.5.0",
            "orientation": "horizontal",
            "min": 0,
            "description_tooltip": null,
            "_model_module": "@jupyter-widgets/controls",
            "layout": "IPY_MODEL_a382752b18b04c329b886713115048fd"
          }
        },
        "eeef5bf03fce4e90bf00d07cbac95c32": {
          "model_module": "@jupyter-widgets/controls",
          "model_name": "HTMLModel",
          "state": {
            "_view_name": "HTMLView",
            "style": "IPY_MODEL_323accf6cc1745739260a03e26bd345f",
            "_dom_classes": [],
            "description": "",
            "_model_name": "HTMLModel",
            "placeholder": "​",
            "_view_module": "@jupyter-widgets/controls",
            "_model_module_version": "1.5.0",
            "value": " 44.7M/44.7M [00:00&lt;00:00, 58.0MB/s]",
            "_view_count": null,
            "_view_module_version": "1.5.0",
            "description_tooltip": null,
            "_model_module": "@jupyter-widgets/controls",
            "layout": "IPY_MODEL_1cebb410f92a4d86b8621b904eafda19"
          }
        },
        "53888e848b8c4a56aed6748c10085512": {
          "model_module": "@jupyter-widgets/controls",
          "model_name": "ProgressStyleModel",
          "state": {
            "_view_name": "StyleView",
            "_model_name": "ProgressStyleModel",
            "description_width": "initial",
            "_view_module": "@jupyter-widgets/base",
            "_model_module_version": "1.5.0",
            "_view_count": null,
            "_view_module_version": "1.2.0",
            "bar_color": null,
            "_model_module": "@jupyter-widgets/controls"
          }
        },
        "a382752b18b04c329b886713115048fd": {
          "model_module": "@jupyter-widgets/base",
          "model_name": "LayoutModel",
          "state": {
            "_view_name": "LayoutView",
            "grid_template_rows": null,
            "right": null,
            "justify_content": null,
            "_view_module": "@jupyter-widgets/base",
            "overflow": null,
            "_model_module_version": "1.2.0",
            "_view_count": null,
            "flex_flow": null,
            "width": null,
            "min_width": null,
            "border": null,
            "align_items": null,
            "bottom": null,
            "_model_module": "@jupyter-widgets/base",
            "top": null,
            "grid_column": null,
            "overflow_y": null,
            "overflow_x": null,
            "grid_auto_flow": null,
            "grid_area": null,
            "grid_template_columns": null,
            "flex": null,
            "_model_name": "LayoutModel",
            "justify_items": null,
            "grid_row": null,
            "max_height": null,
            "align_content": null,
            "visibility": null,
            "align_self": null,
            "height": null,
            "min_height": null,
            "padding": null,
            "grid_auto_rows": null,
            "grid_gap": null,
            "max_width": null,
            "order": null,
            "_view_module_version": "1.2.0",
            "grid_template_areas": null,
            "object_position": null,
            "object_fit": null,
            "grid_auto_columns": null,
            "margin": null,
            "display": null,
            "left": null
          }
        },
        "323accf6cc1745739260a03e26bd345f": {
          "model_module": "@jupyter-widgets/controls",
          "model_name": "DescriptionStyleModel",
          "state": {
            "_view_name": "StyleView",
            "_model_name": "DescriptionStyleModel",
            "description_width": "",
            "_view_module": "@jupyter-widgets/base",
            "_model_module_version": "1.5.0",
            "_view_count": null,
            "_view_module_version": "1.2.0",
            "_model_module": "@jupyter-widgets/controls"
          }
        },
        "1cebb410f92a4d86b8621b904eafda19": {
          "model_module": "@jupyter-widgets/base",
          "model_name": "LayoutModel",
          "state": {
            "_view_name": "LayoutView",
            "grid_template_rows": null,
            "right": null,
            "justify_content": null,
            "_view_module": "@jupyter-widgets/base",
            "overflow": null,
            "_model_module_version": "1.2.0",
            "_view_count": null,
            "flex_flow": null,
            "width": null,
            "min_width": null,
            "border": null,
            "align_items": null,
            "bottom": null,
            "_model_module": "@jupyter-widgets/base",
            "top": null,
            "grid_column": null,
            "overflow_y": null,
            "overflow_x": null,
            "grid_auto_flow": null,
            "grid_area": null,
            "grid_template_columns": null,
            "flex": null,
            "_model_name": "LayoutModel",
            "justify_items": null,
            "grid_row": null,
            "max_height": null,
            "align_content": null,
            "visibility": null,
            "align_self": null,
            "height": null,
            "min_height": null,
            "padding": null,
            "grid_auto_rows": null,
            "grid_gap": null,
            "max_width": null,
            "order": null,
            "_view_module_version": "1.2.0",
            "grid_template_areas": null,
            "object_position": null,
            "object_fit": null,
            "grid_auto_columns": null,
            "margin": null,
            "display": null,
            "left": null
          }
        }
      }
    },
    "metadata": {
      "interpreter": {
        "hash": "bd023f7e55a3baa8deefdea8f313400dd6dad8444694ddaa5d0a63bf51373799"
      }
    }
  },
  "cells": [
    {
      "cell_type": "markdown",
      "metadata": {
        "id": "kfv1o1VLvvTu"
      },
      "source": [
        "# Convolutional Clasification of Dreams"
      ]
    },
    {
      "cell_type": "code",
      "metadata": {
        "id": "fzVmP4guvvT0"
      },
      "source": [
        "# Include usual stuff.\n",
        "import torch as th\n",
        "import matplotlib.pyplot as plt\n",
        "import numpy as np\n",
        "import torch.utils.data as td\n",
        "import pandas as pd\n",
        "import torch.nn as nn\n",
        "from tqdm import tqdm\n",
        "from os import mkdir\n",
        "from shutil import copyfile, copytree\n",
        "import torch\n",
        "from sklearn.metrics import confusion_matrix\n",
        "import torch.nn.functional as F\n",
        "from torchvision import models, datasets, transforms\n",
        "import sys\n",
        "import torch as th\n",
        "import fastai\n",
        "from fastai.basics import *\n",
        "from fastai.vision.all import *\n",
        "from fastai.callback.all import *\n",
        "from fastai.optimizer import OptimWrapper\n",
        "from torch import optim\n",
        "\n",
        "from fastai.data.core import DataLoaders\n",
        "from fastai.learner import Learner\n",
        "from fastai.callback.progress import ProgressCallback\n",
        "from fastai.callback.data import CudaCallback"
      ],
      "execution_count": 2,
      "outputs": []
    },
    {
      "cell_type": "code",
      "metadata": {
        "id": "yJ-e1tqqCLi7"
      },
      "source": [
        "# normalize = transforms.Normalize((0.52,), (0.34,))\n",
        "\n",
        "TRANF_POWER = 0.1\n",
        "\n",
        "train_transform = transforms.Compose([\n",
        "        # transforms.Grayscale(),\n",
        "        # transforms.ColorJitter(2 * TRANF_POWER, 2 * TRANF_POWER, TRANF_POWER, TRANF_POWER),\n",
        "        transforms.ToTensor(),\n",
        "        # normalize,\n",
        "        # transforms.RandomCrop(50, padding=4),\n",
        "        # transforms.RandomRotation(degrees=15),\n",
        "        # transforms.GaussianBlur(3, sigma=(0.01, 0.01)),\n",
        "        # transforms.RandomHorizontalFlip(),\n",
        "        # transforms.RandomVerticalFlip()\n",
        "])\n",
        "train_dataset = datasets.ImageFolder(\n",
        "    \"train_folder\", transform=train_transform\n",
        ")\n",
        "\n",
        "validation_transform = transforms.Compose([\n",
        "        # transforms.Grayscale(),\n",
        "        transforms.ToTensor(),\n",
        "        # normalize,\n",
        "])\n",
        "validation_dataset = datasets.ImageFolder(\n",
        "    \"validation_folder\", transform=validation_transform\n",
        ")\n",
        "test_dataset = datasets.ImageFolder(\n",
        "    \"test_folder\", transform=validation_transform\n",
        ")\n",
        "kwargs = {\"num_workers\": 5, \"pin_memory\": True}\n",
        "train_loader = torch.utils.data.DataLoader(\n",
        "    train_dataset, batch_size=64, shuffle=True, **kwargs\n",
        ")\n",
        "validation_loader = torch.utils.data.DataLoader(\n",
        "    validation_dataset, batch_size=64, shuffle=False, **kwargs\n",
        ")"
      ],
      "execution_count": 42,
      "outputs": []
    },
    {
      "cell_type": "code",
      "execution_count": 21,
      "metadata": {},
      "outputs": [
        {
          "output_type": "stream",
          "name": "stdout",
          "text": [
            "torch.Size([3, 50, 50])\n"
          ]
        },
        {
          "output_type": "display_data",
          "data": {
            "text/plain": "<Figure size 432x288 with 1 Axes>",
            "image/svg+xml": "<?xml version=\"1.0\" encoding=\"utf-8\" standalone=\"no\"?>\n<!DOCTYPE svg PUBLIC \"-//W3C//DTD SVG 1.1//EN\"\n  \"http://www.w3.org/Graphics/SVG/1.1/DTD/svg11.dtd\">\n<!-- Created with matplotlib (https://matplotlib.org/) -->\n<svg height=\"250.142944pt\" version=\"1.1\" viewBox=\"0 0 251.565 250.142944\" width=\"251.565pt\" xmlns=\"http://www.w3.org/2000/svg\" xmlns:xlink=\"http://www.w3.org/1999/xlink\">\n <metadata>\n  <rdf:RDF xmlns:cc=\"http://creativecommons.org/ns#\" xmlns:dc=\"http://purl.org/dc/elements/1.1/\" xmlns:rdf=\"http://www.w3.org/1999/02/22-rdf-syntax-ns#\">\n   <cc:Work>\n    <dc:type rdf:resource=\"http://purl.org/dc/dcmitype/StillImage\"/>\n    <dc:date>2021-04-18T16:10:45.361571</dc:date>\n    <dc:format>image/svg+xml</dc:format>\n    <dc:creator>\n     <cc:Agent>\n      <dc:title>Matplotlib v3.3.2, https://matplotlib.org/</dc:title>\n     </cc:Agent>\n    </dc:creator>\n   </cc:Work>\n  </rdf:RDF>\n </metadata>\n <defs>\n  <style type=\"text/css\">*{stroke-linecap:butt;stroke-linejoin:round;}</style>\n </defs>\n <g id=\"figure_1\">\n  <g id=\"patch_1\">\n   <path d=\"M 0 250.142944 \nL 251.565 250.142944 \nL 251.565 0 \nL 0 0 \nz\n\" style=\"fill:none;\"/>\n  </g>\n  <g id=\"axes_1\">\n   <g id=\"patch_2\">\n    <path d=\"M 26.925 226.264819 \nL 244.365 226.264819 \nL 244.365 8.824819 \nL 26.925 8.824819 \nz\n\" style=\"fill:#ffffff;\"/>\n   </g>\n   <g clip-path=\"url(#p9900b35af0)\">\n    <image height=\"218\" id=\"imagef519f6c3f2\" transform=\"scale(1 -1)translate(0 -218)\" width=\"218\" x=\"26.925\" xlink:href=\"data:image/png;base64,\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\" y=\"-8.264819\"/>\n   </g>\n   <g id=\"matplotlib.axis_1\">\n    <g id=\"xtick_1\">\n     <g id=\"line2d_1\">\n      <defs>\n       <path d=\"M 0 0 \nL 0 3.5 \n\" id=\"m6cf3dc05db\" style=\"stroke:#000000;stroke-width:0.8;\"/>\n      </defs>\n      <g>\n       <use style=\"stroke:#000000;stroke-width:0.8;\" x=\"29.0994\" xlink:href=\"#m6cf3dc05db\" y=\"226.264819\"/>\n      </g>\n     </g>\n     <g id=\"text_1\">\n      <!-- 0 -->\n      <g transform=\"translate(25.91815 240.863256)scale(0.1 -0.1)\">\n       <defs>\n        <path d=\"M 31.78125 66.40625 \nQ 24.171875 66.40625 20.328125 58.90625 \nQ 16.5 51.421875 16.5 36.375 \nQ 16.5 21.390625 20.328125 13.890625 \nQ 24.171875 6.390625 31.78125 6.390625 \nQ 39.453125 6.390625 43.28125 13.890625 \nQ 47.125 21.390625 47.125 36.375 \nQ 47.125 51.421875 43.28125 58.90625 \nQ 39.453125 66.40625 31.78125 66.40625 \nz\nM 31.78125 74.21875 \nQ 44.046875 74.21875 50.515625 64.515625 \nQ 56.984375 54.828125 56.984375 36.375 \nQ 56.984375 17.96875 50.515625 8.265625 \nQ 44.046875 -1.421875 31.78125 -1.421875 \nQ 19.53125 -1.421875 13.0625 8.265625 \nQ 6.59375 17.96875 6.59375 36.375 \nQ 6.59375 54.828125 13.0625 64.515625 \nQ 19.53125 74.21875 31.78125 74.21875 \nz\n\" id=\"DejaVuSans-48\"/>\n       </defs>\n       <use xlink:href=\"#DejaVuSans-48\"/>\n      </g>\n     </g>\n    </g>\n    <g id=\"xtick_2\">\n     <g id=\"line2d_2\">\n      <g>\n       <use style=\"stroke:#000000;stroke-width:0.8;\" x=\"72.5874\" xlink:href=\"#m6cf3dc05db\" y=\"226.264819\"/>\n      </g>\n     </g>\n     <g id=\"text_2\">\n      <!-- 10 -->\n      <g transform=\"translate(66.2249 240.863256)scale(0.1 -0.1)\">\n       <defs>\n        <path d=\"M 12.40625 8.296875 \nL 28.515625 8.296875 \nL 28.515625 63.921875 \nL 10.984375 60.40625 \nL 10.984375 69.390625 \nL 28.421875 72.90625 \nL 38.28125 72.90625 \nL 38.28125 8.296875 \nL 54.390625 8.296875 \nL 54.390625 0 \nL 12.40625 0 \nz\n\" id=\"DejaVuSans-49\"/>\n       </defs>\n       <use xlink:href=\"#DejaVuSans-49\"/>\n       <use x=\"63.623047\" xlink:href=\"#DejaVuSans-48\"/>\n      </g>\n     </g>\n    </g>\n    <g id=\"xtick_3\">\n     <g id=\"line2d_3\">\n      <g>\n       <use style=\"stroke:#000000;stroke-width:0.8;\" x=\"116.0754\" xlink:href=\"#m6cf3dc05db\" y=\"226.264819\"/>\n      </g>\n     </g>\n     <g id=\"text_3\">\n      <!-- 20 -->\n      <g transform=\"translate(109.7129 240.863256)scale(0.1 -0.1)\">\n       <defs>\n        <path d=\"M 19.1875 8.296875 \nL 53.609375 8.296875 \nL 53.609375 0 \nL 7.328125 0 \nL 7.328125 8.296875 \nQ 12.9375 14.109375 22.625 23.890625 \nQ 32.328125 33.6875 34.8125 36.53125 \nQ 39.546875 41.84375 41.421875 45.53125 \nQ 43.3125 49.21875 43.3125 52.78125 \nQ 43.3125 58.59375 39.234375 62.25 \nQ 35.15625 65.921875 28.609375 65.921875 \nQ 23.96875 65.921875 18.8125 64.3125 \nQ 13.671875 62.703125 7.8125 59.421875 \nL 7.8125 69.390625 \nQ 13.765625 71.78125 18.9375 73 \nQ 24.125 74.21875 28.421875 74.21875 \nQ 39.75 74.21875 46.484375 68.546875 \nQ 53.21875 62.890625 53.21875 53.421875 \nQ 53.21875 48.921875 51.53125 44.890625 \nQ 49.859375 40.875 45.40625 35.40625 \nQ 44.1875 33.984375 37.640625 27.21875 \nQ 31.109375 20.453125 19.1875 8.296875 \nz\n\" id=\"DejaVuSans-50\"/>\n       </defs>\n       <use xlink:href=\"#DejaVuSans-50\"/>\n       <use x=\"63.623047\" xlink:href=\"#DejaVuSans-48\"/>\n      </g>\n     </g>\n    </g>\n    <g id=\"xtick_4\">\n     <g id=\"line2d_4\">\n      <g>\n       <use style=\"stroke:#000000;stroke-width:0.8;\" x=\"159.5634\" xlink:href=\"#m6cf3dc05db\" y=\"226.264819\"/>\n      </g>\n     </g>\n     <g id=\"text_4\">\n      <!-- 30 -->\n      <g transform=\"translate(153.2009 240.863256)scale(0.1 -0.1)\">\n       <defs>\n        <path d=\"M 40.578125 39.3125 \nQ 47.65625 37.796875 51.625 33 \nQ 55.609375 28.21875 55.609375 21.1875 \nQ 55.609375 10.40625 48.1875 4.484375 \nQ 40.765625 -1.421875 27.09375 -1.421875 \nQ 22.515625 -1.421875 17.65625 -0.515625 \nQ 12.796875 0.390625 7.625 2.203125 \nL 7.625 11.71875 \nQ 11.71875 9.328125 16.59375 8.109375 \nQ 21.484375 6.890625 26.8125 6.890625 \nQ 36.078125 6.890625 40.9375 10.546875 \nQ 45.796875 14.203125 45.796875 21.1875 \nQ 45.796875 27.640625 41.28125 31.265625 \nQ 36.765625 34.90625 28.71875 34.90625 \nL 20.21875 34.90625 \nL 20.21875 43.015625 \nL 29.109375 43.015625 \nQ 36.375 43.015625 40.234375 45.921875 \nQ 44.09375 48.828125 44.09375 54.296875 \nQ 44.09375 59.90625 40.109375 62.90625 \nQ 36.140625 65.921875 28.71875 65.921875 \nQ 24.65625 65.921875 20.015625 65.03125 \nQ 15.375 64.15625 9.8125 62.3125 \nL 9.8125 71.09375 \nQ 15.4375 72.65625 20.34375 73.4375 \nQ 25.25 74.21875 29.59375 74.21875 \nQ 40.828125 74.21875 47.359375 69.109375 \nQ 53.90625 64.015625 53.90625 55.328125 \nQ 53.90625 49.265625 50.4375 45.09375 \nQ 46.96875 40.921875 40.578125 39.3125 \nz\n\" id=\"DejaVuSans-51\"/>\n       </defs>\n       <use xlink:href=\"#DejaVuSans-51\"/>\n       <use x=\"63.623047\" xlink:href=\"#DejaVuSans-48\"/>\n      </g>\n     </g>\n    </g>\n    <g id=\"xtick_5\">\n     <g id=\"line2d_5\">\n      <g>\n       <use style=\"stroke:#000000;stroke-width:0.8;\" x=\"203.0514\" xlink:href=\"#m6cf3dc05db\" y=\"226.264819\"/>\n      </g>\n     </g>\n     <g id=\"text_5\">\n      <!-- 40 -->\n      <g transform=\"translate(196.6889 240.863256)scale(0.1 -0.1)\">\n       <defs>\n        <path d=\"M 37.796875 64.3125 \nL 12.890625 25.390625 \nL 37.796875 25.390625 \nz\nM 35.203125 72.90625 \nL 47.609375 72.90625 \nL 47.609375 25.390625 \nL 58.015625 25.390625 \nL 58.015625 17.1875 \nL 47.609375 17.1875 \nL 47.609375 0 \nL 37.796875 0 \nL 37.796875 17.1875 \nL 4.890625 17.1875 \nL 4.890625 26.703125 \nz\n\" id=\"DejaVuSans-52\"/>\n       </defs>\n       <use xlink:href=\"#DejaVuSans-52\"/>\n       <use x=\"63.623047\" xlink:href=\"#DejaVuSans-48\"/>\n      </g>\n     </g>\n    </g>\n   </g>\n   <g id=\"matplotlib.axis_2\">\n    <g id=\"ytick_1\">\n     <g id=\"line2d_6\">\n      <defs>\n       <path d=\"M 0 0 \nL -3.5 0 \n\" id=\"m2460245546\" style=\"stroke:#000000;stroke-width:0.8;\"/>\n      </defs>\n      <g>\n       <use style=\"stroke:#000000;stroke-width:0.8;\" x=\"26.925\" xlink:href=\"#m2460245546\" y=\"10.999219\"/>\n      </g>\n     </g>\n     <g id=\"text_6\">\n      <!-- 0 -->\n      <g transform=\"translate(13.5625 14.798437)scale(0.1 -0.1)\">\n       <use xlink:href=\"#DejaVuSans-48\"/>\n      </g>\n     </g>\n    </g>\n    <g id=\"ytick_2\">\n     <g id=\"line2d_7\">\n      <g>\n       <use style=\"stroke:#000000;stroke-width:0.8;\" x=\"26.925\" xlink:href=\"#m2460245546\" y=\"54.487219\"/>\n      </g>\n     </g>\n     <g id=\"text_7\">\n      <!-- 10 -->\n      <g transform=\"translate(7.2 58.286437)scale(0.1 -0.1)\">\n       <use xlink:href=\"#DejaVuSans-49\"/>\n       <use x=\"63.623047\" xlink:href=\"#DejaVuSans-48\"/>\n      </g>\n     </g>\n    </g>\n    <g id=\"ytick_3\">\n     <g id=\"line2d_8\">\n      <g>\n       <use style=\"stroke:#000000;stroke-width:0.8;\" x=\"26.925\" xlink:href=\"#m2460245546\" y=\"97.975219\"/>\n      </g>\n     </g>\n     <g id=\"text_8\">\n      <!-- 20 -->\n      <g transform=\"translate(7.2 101.774437)scale(0.1 -0.1)\">\n       <use xlink:href=\"#DejaVuSans-50\"/>\n       <use x=\"63.623047\" xlink:href=\"#DejaVuSans-48\"/>\n      </g>\n     </g>\n    </g>\n    <g id=\"ytick_4\">\n     <g id=\"line2d_9\">\n      <g>\n       <use style=\"stroke:#000000;stroke-width:0.8;\" x=\"26.925\" xlink:href=\"#m2460245546\" y=\"141.463219\"/>\n      </g>\n     </g>\n     <g id=\"text_9\">\n      <!-- 30 -->\n      <g transform=\"translate(7.2 145.262437)scale(0.1 -0.1)\">\n       <use xlink:href=\"#DejaVuSans-51\"/>\n       <use x=\"63.623047\" xlink:href=\"#DejaVuSans-48\"/>\n      </g>\n     </g>\n    </g>\n    <g id=\"ytick_5\">\n     <g id=\"line2d_10\">\n      <g>\n       <use style=\"stroke:#000000;stroke-width:0.8;\" x=\"26.925\" xlink:href=\"#m2460245546\" y=\"184.951219\"/>\n      </g>\n     </g>\n     <g id=\"text_10\">\n      <!-- 40 -->\n      <g transform=\"translate(7.2 188.750437)scale(0.1 -0.1)\">\n       <use xlink:href=\"#DejaVuSans-52\"/>\n       <use x=\"63.623047\" xlink:href=\"#DejaVuSans-48\"/>\n      </g>\n     </g>\n    </g>\n   </g>\n   <g id=\"patch_3\">\n    <path d=\"M 26.925 226.264819 \nL 26.925 8.824819 \n\" style=\"fill:none;stroke:#000000;stroke-linecap:square;stroke-linejoin:miter;stroke-width:0.8;\"/>\n   </g>\n   <g id=\"patch_4\">\n    <path d=\"M 244.365 226.264819 \nL 244.365 8.824819 \n\" style=\"fill:none;stroke:#000000;stroke-linecap:square;stroke-linejoin:miter;stroke-width:0.8;\"/>\n   </g>\n   <g id=\"patch_5\">\n    <path d=\"M 26.925 226.264819 \nL 244.365 226.264819 \n\" style=\"fill:none;stroke:#000000;stroke-linecap:square;stroke-linejoin:miter;stroke-width:0.8;\"/>\n   </g>\n   <g id=\"patch_6\">\n    <path d=\"M 26.925 8.824819 \nL 244.365 8.824819 \n\" style=\"fill:none;stroke:#000000;stroke-linecap:square;stroke-linejoin:miter;stroke-width:0.8;\"/>\n   </g>\n  </g>\n </g>\n <defs>\n  <clipPath id=\"p9900b35af0\">\n   <rect height=\"217.44\" width=\"217.44\" x=\"26.925\" y=\"8.824819\"/>\n  </clipPath>\n </defs>\n</svg>\n",
            "image/png": "[encoded data removed]"
          },
          "metadata": {
            "needs_background": "light"
          }
        },
        {
          "output_type": "stream",
          "name": "stdout",
          "text": [
            "0\n"
          ]
        }
      ],
      "source": [
        "for i, l in train_dataset:\n",
        "    print(i.shape)\n",
        "    plt.imshow(i.transpose(1, 2).transpose(0, 2))\n",
        "    plt.show()\n",
        "    print(l)\n",
        "    break"
      ]
    },
    {
      "cell_type": "code",
      "metadata": {
        "id": "nC19G0PGGNjf"
      },
      "source": [
        "class ConvUnit(nn.Module):\n",
        "    def __init__(self, in_f, out_f, ker=3, dropout=0.05, max_pull=False):\n",
        "        super().__init__()\n",
        "        if max_pull == False:\n",
        "            self.net = nn.Sequential (\n",
        "                nn.Conv2d(in_f, out_f, kernel_size=ker, padding=ker//2),\n",
        "                nn.BatchNorm2d(out_f),\n",
        "                nn.Dropout2d(dropout),\n",
        "                nn.ReLU()\n",
        "            )\n",
        "        else:\n",
        "            self.net = nn.Sequential (\n",
        "                nn.Conv2d(in_f, out_f, kernel_size=ker, padding=ker//2, stride=2),\n",
        "                nn.BatchNorm2d(out_f),\n",
        "                nn.Dropout2d(dropout),\n",
        "                nn.ReLU()\n",
        "            )\n",
        "    def forward(self, x):\n",
        "        return self.net(x)\n",
        "\n",
        "class FcUnit(nn.Module):\n",
        "    def __init__(self, in_f, out_f, dropout=0.3):\n",
        "        super().__init__()\n",
        "        self.net = nn.Sequential (\n",
        "            nn.Linear(in_f, out_f),\n",
        "            nn.BatchNorm1d(out_f),\n",
        "            nn.Dropout(dropout),\n",
        "            nn.ReLU()\n",
        "        )\n",
        "    def forward(self, x):\n",
        "        return self.net(x)\n",
        "\n",
        "\n",
        "\n",
        "class Model(torch.nn.Module):\n",
        "    def __init__(self):\n",
        "        super().__init__()\n",
        "        self.net = nn.Sequential(\n",
        "            ConvUnit(3, 16, ker=5, max_pull=True),\n",
        "            ConvUnit(16, 32, ker=5, max_pull=True),\n",
        "\n",
        "            nn.Flatten(),\n",
        "\n",
        "            FcUnit(32 * 13 * 13, 250, dropout=0.5),\n",
        "            FcUnit(250, 250, dropout=0.5),\n",
        "            FcUnit(250, 3, dropout=0.)\n",
        "        )\n",
        "\n",
        "    def forward(self, x):\n",
        "        return self.net(x)"
      ],
      "execution_count": 65,
      "outputs": []
    },
    {
      "cell_type": "code",
      "execution_count": 66,
      "metadata": {},
      "outputs": [
        {
          "output_type": "execute_result",
          "data": {
            "text/plain": [
              "torch.Size([101, 256, 7, 7])"
            ]
          },
          "metadata": {},
          "execution_count": 66
        }
      ],
      "source": [
        "a = nn.Sequential(\n",
        "            ConvUnit(3, 32, ker=5),\n",
        "            ConvUnit(32, 64, ker=5, max_pull=True),\n",
        "            ConvUnit(64, 128, ker=3, max_pull=True),\n",
        "            ConvUnit(128, 256, ker=3, max_pull=True),\n",
        ")\n",
        "\n",
        "a(th.randn(101, 3, 50, 50)).shape"
      ]
    },
    {
      "cell_type": "code",
      "execution_count": 67,
      "metadata": {},
      "outputs": [],
      "source": [
        "net = Model().cuda()\n",
        "criterion = nn.CrossEntropyLoss()"
      ]
    },
    {
      "cell_type": "code",
      "execution_count": 68,
      "metadata": {},
      "outputs": [],
      "source": [
        "def opt_func(params, **kwargs):\n",
        "    return OptimWrapper(optim.AdamW(params, **kwargs))\n",
        "\n",
        "dls = DataLoaders(train_loader, validation_loader)\n",
        "\n",
        "learn = Learner(dls, net, loss_func=criterion, cbs=[CudaCallback])"
      ]
    },
    {
      "cell_type": "code",
      "execution_count": 69,
      "metadata": {},
      "outputs": [
        {
          "output_type": "display_data",
          "data": {
            "text/plain": "<IPython.core.display.HTML object>",
            "text/html": "<table border=\"1\" class=\"dataframe\">\n  <thead>\n    <tr style=\"text-align: left;\">\n      <th>epoch</th>\n      <th>train_loss</th>\n      <th>valid_loss</th>\n      <th>time</th>\n    </tr>\n  </thead>\n  <tbody>\n    <tr>\n      <td>0</td>\n      <td>1.034785</td>\n      <td>1.059032</td>\n      <td>00:02</td>\n    </tr>\n    <tr>\n      <td>1</td>\n      <td>0.941186</td>\n      <td>1.045094</td>\n      <td>00:02</td>\n    </tr>\n    <tr>\n      <td>2</td>\n      <td>0.889015</td>\n      <td>1.045251</td>\n      <td>00:02</td>\n    </tr>\n    <tr>\n      <td>3</td>\n      <td>0.831843</td>\n      <td>1.031064</td>\n      <td>00:02</td>\n    </tr>\n    <tr>\n      <td>4</td>\n      <td>0.800693</td>\n      <td>1.027189</td>\n      <td>00:02</td>\n    </tr>\n    <tr>\n      <td>5</td>\n      <td>0.764900</td>\n      <td>1.016504</td>\n      <td>00:02</td>\n    </tr>\n    <tr>\n      <td>6</td>\n      <td>0.740282</td>\n      <td>1.012651</td>\n      <td>00:02</td>\n    </tr>\n    <tr>\n      <td>7</td>\n      <td>0.720802</td>\n      <td>1.015406</td>\n      <td>00:02</td>\n    </tr>\n    <tr>\n      <td>8</td>\n      <td>0.692431</td>\n      <td>1.016898</td>\n      <td>00:02</td>\n    </tr>\n    <tr>\n      <td>9</td>\n      <td>0.665594</td>\n      <td>1.005039</td>\n      <td>00:02</td>\n    </tr>\n    <tr>\n      <td>10</td>\n      <td>0.637614</td>\n      <td>1.033212</td>\n      <td>00:02</td>\n    </tr>\n    <tr>\n      <td>11</td>\n      <td>0.626623</td>\n      <td>1.028699</td>\n      <td>00:02</td>\n    </tr>\n    <tr>\n      <td>12</td>\n      <td>0.596099</td>\n      <td>0.991588</td>\n      <td>00:02</td>\n    </tr>\n    <tr>\n      <td>13</td>\n      <td>0.574727</td>\n      <td>1.003942</td>\n      <td>00:02</td>\n    </tr>\n    <tr>\n      <td>14</td>\n      <td>0.553071</td>\n      <td>1.006912</td>\n      <td>00:02</td>\n    </tr>\n    <tr>\n      <td>15</td>\n      <td>0.523219</td>\n      <td>1.029730</td>\n      <td>00:02</td>\n    </tr>\n    <tr>\n      <td>16</td>\n      <td>0.512678</td>\n      <td>1.022750</td>\n      <td>00:02</td>\n    </tr>\n    <tr>\n      <td>17</td>\n      <td>0.480294</td>\n      <td>1.012564</td>\n      <td>00:02</td>\n    </tr>\n    <tr>\n      <td>18</td>\n      <td>0.466610</td>\n      <td>1.014237</td>\n      <td>00:02</td>\n    </tr>\n    <tr>\n      <td>19</td>\n      <td>0.452345</td>\n      <td>1.110513</td>\n      <td>00:02</td>\n    </tr>\n    <tr>\n      <td>20</td>\n      <td>0.436470</td>\n      <td>1.075526</td>\n      <td>00:02</td>\n    </tr>\n    <tr>\n      <td>21</td>\n      <td>0.424462</td>\n      <td>1.132711</td>\n      <td>00:02</td>\n    </tr>\n    <tr>\n      <td>22</td>\n      <td>0.398125</td>\n      <td>1.059270</td>\n      <td>00:02</td>\n    </tr>\n    <tr>\n      <td>23</td>\n      <td>0.372881</td>\n      <td>1.099848</td>\n      <td>00:02</td>\n    </tr>\n    <tr>\n      <td>24</td>\n      <td>0.353214</td>\n      <td>1.049256</td>\n      <td>00:02</td>\n    </tr>\n    <tr>\n      <td>25</td>\n      <td>0.343840</td>\n      <td>1.077477</td>\n      <td>00:02</td>\n    </tr>\n    <tr>\n      <td>26</td>\n      <td>0.327400</td>\n      <td>1.026729</td>\n      <td>00:02</td>\n    </tr>\n    <tr>\n      <td>27</td>\n      <td>0.303094</td>\n      <td>1.100302</td>\n      <td>00:02</td>\n    </tr>\n    <tr>\n      <td>28</td>\n      <td>0.301872</td>\n      <td>1.120799</td>\n      <td>00:02</td>\n    </tr>\n    <tr>\n      <td>29</td>\n      <td>0.270867</td>\n      <td>1.157079</td>\n      <td>00:02</td>\n    </tr>\n    <tr>\n      <td>30</td>\n      <td>0.277551</td>\n      <td>1.160819</td>\n      <td>00:02</td>\n    </tr>\n    <tr>\n      <td>31</td>\n      <td>0.258087</td>\n      <td>1.164260</td>\n      <td>00:02</td>\n    </tr>\n    <tr>\n      <td>32</td>\n      <td>0.250636</td>\n      <td>1.223295</td>\n      <td>00:02</td>\n    </tr>\n    <tr>\n      <td>33</td>\n      <td>0.249387</td>\n      <td>1.188452</td>\n      <td>00:02</td>\n    </tr>\n    <tr>\n      <td>34</td>\n      <td>0.255216</td>\n      <td>1.146778</td>\n      <td>00:02</td>\n    </tr>\n    <tr>\n      <td>35</td>\n      <td>0.232113</td>\n      <td>1.318877</td>\n      <td>00:02</td>\n    </tr>\n    <tr>\n      <td>36</td>\n      <td>0.217479</td>\n      <td>1.248791</td>\n      <td>00:02</td>\n    </tr>\n    <tr>\n      <td>37</td>\n      <td>0.217978</td>\n      <td>1.294647</td>\n      <td>00:02</td>\n    </tr>\n    <tr>\n      <td>38</td>\n      <td>0.207253</td>\n      <td>1.272151</td>\n      <td>00:02</td>\n    </tr>\n    <tr>\n      <td>39</td>\n      <td>0.212042</td>\n      <td>1.244022</td>\n      <td>00:02</td>\n    </tr>\n    <tr>\n      <td>40</td>\n      <td>0.197481</td>\n      <td>1.243856</td>\n      <td>00:02</td>\n    </tr>\n    <tr>\n      <td>41</td>\n      <td>0.187035</td>\n      <td>1.302676</td>\n      <td>00:02</td>\n    </tr>\n    <tr>\n      <td>42</td>\n      <td>0.195748</td>\n      <td>1.416627</td>\n      <td>00:02</td>\n    </tr>\n    <tr>\n      <td>43</td>\n      <td>0.198677</td>\n      <td>1.391961</td>\n      <td>00:02</td>\n    </tr>\n    <tr>\n      <td>44</td>\n      <td>0.171401</td>\n      <td>1.272371</td>\n      <td>00:02</td>\n    </tr>\n    <tr>\n      <td>45</td>\n      <td>0.192741</td>\n      <td>1.336699</td>\n      <td>00:02</td>\n    </tr>\n    <tr>\n      <td>46</td>\n      <td>0.170690</td>\n      <td>1.337677</td>\n      <td>00:02</td>\n    </tr>\n    <tr>\n      <td>47</td>\n      <td>0.182990</td>\n      <td>1.447559</td>\n      <td>00:02</td>\n    </tr>\n    <tr>\n      <td>48</td>\n      <td>0.156891</td>\n      <td>1.450706</td>\n      <td>00:02</td>\n    </tr>\n    <tr>\n      <td>49</td>\n      <td>0.156636</td>\n      <td>1.417398</td>\n      <td>00:02</td>\n    </tr>\n    <tr>\n      <td>50</td>\n      <td>0.151770</td>\n      <td>1.395533</td>\n      <td>00:02</td>\n    </tr>\n    <tr>\n      <td>51</td>\n      <td>0.140352</td>\n      <td>1.414653</td>\n      <td>00:02</td>\n    </tr>\n    <tr>\n      <td>52</td>\n      <td>0.174688</td>\n      <td>1.438040</td>\n      <td>00:02</td>\n    </tr>\n    <tr>\n      <td>53</td>\n      <td>0.156930</td>\n      <td>1.445985</td>\n      <td>00:02</td>\n    </tr>\n    <tr>\n      <td>54</td>\n      <td>0.145814</td>\n      <td>1.550739</td>\n      <td>00:02</td>\n    </tr>\n    <tr>\n      <td>55</td>\n      <td>0.142916</td>\n      <td>1.387674</td>\n      <td>00:02</td>\n    </tr>\n    <tr>\n      <td>56</td>\n      <td>0.144636</td>\n      <td>1.457033</td>\n      <td>00:02</td>\n    </tr>\n    <tr>\n      <td>57</td>\n      <td>0.142599</td>\n      <td>1.405634</td>\n      <td>00:02</td>\n    </tr>\n    <tr>\n      <td>58</td>\n      <td>0.130313</td>\n      <td>1.494405</td>\n      <td>00:02</td>\n    </tr>\n    <tr>\n      <td>59</td>\n      <td>0.138531</td>\n      <td>1.492088</td>\n      <td>00:02</td>\n    </tr>\n    <tr>\n      <td>60</td>\n      <td>0.109740</td>\n      <td>1.466109</td>\n      <td>00:02</td>\n    </tr>\n    <tr>\n      <td>61</td>\n      <td>0.127777</td>\n      <td>1.414841</td>\n      <td>00:02</td>\n    </tr>\n    <tr>\n      <td>62</td>\n      <td>0.113720</td>\n      <td>1.486368</td>\n      <td>00:02</td>\n    </tr>\n    <tr>\n      <td>63</td>\n      <td>0.107934</td>\n      <td>1.408514</td>\n      <td>00:02</td>\n    </tr>\n    <tr>\n      <td>64</td>\n      <td>0.120702</td>\n      <td>1.429137</td>\n      <td>00:02</td>\n    </tr>\n    <tr>\n      <td>65</td>\n      <td>0.103031</td>\n      <td>1.362742</td>\n      <td>00:02</td>\n    </tr>\n    <tr>\n      <td>66</td>\n      <td>0.112576</td>\n      <td>1.536505</td>\n      <td>00:02</td>\n    </tr>\n    <tr>\n      <td>67</td>\n      <td>0.103166</td>\n      <td>1.422206</td>\n      <td>00:02</td>\n    </tr>\n    <tr>\n      <td>68</td>\n      <td>0.108034</td>\n      <td>1.432233</td>\n      <td>00:02</td>\n    </tr>\n    <tr>\n      <td>69</td>\n      <td>0.105653</td>\n      <td>1.494082</td>\n      <td>00:03</td>\n    </tr>\n    <tr>\n      <td>70</td>\n      <td>0.099402</td>\n      <td>1.712504</td>\n      <td>00:02</td>\n    </tr>\n    <tr>\n      <td>71</td>\n      <td>0.089511</td>\n      <td>1.387249</td>\n      <td>00:02</td>\n    </tr>\n    <tr>\n      <td>72</td>\n      <td>0.087485</td>\n      <td>1.473051</td>\n      <td>00:02</td>\n    </tr>\n    <tr>\n      <td>73</td>\n      <td>0.084483</td>\n      <td>1.503316</td>\n      <td>00:02</td>\n    </tr>\n    <tr>\n      <td>74</td>\n      <td>0.090401</td>\n      <td>1.441084</td>\n      <td>00:02</td>\n    </tr>\n    <tr>\n      <td>75</td>\n      <td>0.093323</td>\n      <td>1.545545</td>\n      <td>00:02</td>\n    </tr>\n    <tr>\n      <td>76</td>\n      <td>0.083156</td>\n      <td>1.646817</td>\n      <td>00:02</td>\n    </tr>\n    <tr>\n      <td>77</td>\n      <td>0.086918</td>\n      <td>1.449619</td>\n      <td>00:02</td>\n    </tr>\n    <tr>\n      <td>78</td>\n      <td>0.079600</td>\n      <td>1.386695</td>\n      <td>00:02</td>\n    </tr>\n    <tr>\n      <td>79</td>\n      <td>0.075072</td>\n      <td>1.353827</td>\n      <td>00:02</td>\n    </tr>\n    <tr>\n      <td>80</td>\n      <td>0.083836</td>\n      <td>1.593776</td>\n      <td>00:02</td>\n    </tr>\n    <tr>\n      <td>81</td>\n      <td>0.076480</td>\n      <td>1.666608</td>\n      <td>00:02</td>\n    </tr>\n    <tr>\n      <td>82</td>\n      <td>0.070627</td>\n      <td>1.403062</td>\n      <td>00:02</td>\n    </tr>\n    <tr>\n      <td>83</td>\n      <td>0.072579</td>\n      <td>1.436414</td>\n      <td>00:02</td>\n    </tr>\n    <tr>\n      <td>84</td>\n      <td>0.073101</td>\n      <td>1.518682</td>\n      <td>00:02</td>\n    </tr>\n    <tr>\n      <td>85</td>\n      <td>0.063952</td>\n      <td>1.671664</td>\n      <td>00:02</td>\n    </tr>\n    <tr>\n      <td>86</td>\n      <td>0.071199</td>\n      <td>1.487740</td>\n      <td>00:02</td>\n    </tr>\n    <tr>\n      <td>87</td>\n      <td>0.070565</td>\n      <td>1.572048</td>\n      <td>00:02</td>\n    </tr>\n    <tr>\n      <td>88</td>\n      <td>0.063795</td>\n      <td>1.696793</td>\n      <td>00:02</td>\n    </tr>\n    <tr>\n      <td>89</td>\n      <td>0.064980</td>\n      <td>1.832633</td>\n      <td>00:02</td>\n    </tr>\n    <tr>\n      <td>90</td>\n      <td>0.068568</td>\n      <td>1.679213</td>\n      <td>00:02</td>\n    </tr>\n    <tr>\n      <td>91</td>\n      <td>0.058885</td>\n      <td>1.587650</td>\n      <td>00:02</td>\n    </tr>\n    <tr>\n      <td>92</td>\n      <td>0.067295</td>\n      <td>1.845212</td>\n      <td>00:02</td>\n    </tr>\n    <tr>\n      <td>93</td>\n      <td>0.059233</td>\n      <td>1.866314</td>\n      <td>00:02</td>\n    </tr>\n    <tr>\n      <td>94</td>\n      <td>0.062308</td>\n      <td>1.693606</td>\n      <td>00:02</td>\n    </tr>\n    <tr>\n      <td>95</td>\n      <td>0.053720</td>\n      <td>1.682405</td>\n      <td>00:02</td>\n    </tr>\n    <tr>\n      <td>96</td>\n      <td>0.070796</td>\n      <td>1.537793</td>\n      <td>00:02</td>\n    </tr>\n    <tr>\n      <td>97</td>\n      <td>0.057781</td>\n      <td>1.732923</td>\n      <td>00:02</td>\n    </tr>\n    <tr>\n      <td>98</td>\n      <td>0.056006</td>\n      <td>1.908617</td>\n      <td>00:02</td>\n    </tr>\n    <tr>\n      <td>99</td>\n      <td>0.052564</td>\n      <td>1.557355</td>\n      <td>00:02</td>\n    </tr>\n    <tr>\n      <td>100</td>\n      <td>0.053565</td>\n      <td>1.620153</td>\n      <td>00:02</td>\n    </tr>\n    <tr>\n      <td>101</td>\n      <td>0.065809</td>\n      <td>1.635306</td>\n      <td>00:02</td>\n    </tr>\n    <tr>\n      <td>102</td>\n      <td>0.071949</td>\n      <td>1.728085</td>\n      <td>00:02</td>\n    </tr>\n    <tr>\n      <td>103</td>\n      <td>0.052462</td>\n      <td>1.659236</td>\n      <td>00:02</td>\n    </tr>\n    <tr>\n      <td>104</td>\n      <td>0.052547</td>\n      <td>1.560692</td>\n      <td>00:02</td>\n    </tr>\n    <tr>\n      <td>105</td>\n      <td>0.047582</td>\n      <td>1.619249</td>\n      <td>00:02</td>\n    </tr>\n    <tr>\n      <td>106</td>\n      <td>0.041792</td>\n      <td>1.632126</td>\n      <td>00:02</td>\n    </tr>\n    <tr>\n      <td>107</td>\n      <td>0.043423</td>\n      <td>1.709785</td>\n      <td>00:02</td>\n    </tr>\n    <tr>\n      <td>108</td>\n      <td>0.047349</td>\n      <td>1.758048</td>\n      <td>00:02</td>\n    </tr>\n    <tr>\n      <td>109</td>\n      <td>0.044032</td>\n      <td>1.634009</td>\n      <td>00:02</td>\n    </tr>\n    <tr>\n      <td>110</td>\n      <td>0.047333</td>\n      <td>1.703051</td>\n      <td>00:02</td>\n    </tr>\n    <tr>\n      <td>111</td>\n      <td>0.040292</td>\n      <td>1.833191</td>\n      <td>00:02</td>\n    </tr>\n    <tr>\n      <td>112</td>\n      <td>0.046758</td>\n      <td>1.710397</td>\n      <td>00:02</td>\n    </tr>\n    <tr>\n      <td>113</td>\n      <td>0.047346</td>\n      <td>1.879811</td>\n      <td>00:03</td>\n    </tr>\n    <tr>\n      <td>114</td>\n      <td>0.044873</td>\n      <td>00:02</td>\n    </tr>\n  </tbody>\n</table>"
          },
          "metadata": {}
        }
      ],
      "source": [
        "learn.fit_one_cycle(300)"
      ]
    },
    {
      "cell_type": "code",
      "metadata": {
        "id": "WSHrLUKfHoX0"
      },
      "source": [
        "def train(model, train_loader, optimizer, epoch, criterion, l2_reg=1e-5):\n",
        "    model.train()\n",
        "\n",
        "    total_loss = []\n",
        "\n",
        "    for data, target in tqdm(train_loader):\n",
        "        data = data.cuda()\n",
        "        target = target.cuda()\n",
        "\n",
        "        optimizer.zero_grad()\n",
        "\n",
        "        prediction = model(data)\n",
        "        loss = criterion(prediction, target)\n",
        "\n",
        "        s = 0\n",
        "        for m in model.parameters():\n",
        "            s += th.sum(m ** 2)\n",
        "\n",
        "        loss += th.sqrt(s) * l2_reg\n",
        "\n",
        "        loss.backward()\n",
        "        optimizer.step()\n",
        "\n",
        "        total_loss.append(loss.item())\n",
        "\n",
        "    avg_loss = sum(total_loss) / len(total_loss)\n",
        "    print(f\"Epoch: {epoch}:\")\n",
        "    print(f\"Train Set: Average Loss: {avg_loss:.2f}\")\n",
        "\n",
        "\n",
        "def test(model, loader, criterion, dataset_name):\n",
        "    model.eval()\n",
        "\n",
        "    loss = 0\n",
        "    correct = 0\n",
        "\n",
        "    for data, target in tqdm(loader):\n",
        "        with torch.no_grad():\n",
        "            data = data.cuda()\n",
        "            target = target.cuda()\n",
        "\n",
        "            prediction = model(data)\n",
        "            loss += criterion(prediction, target)\n",
        "\n",
        "            correct += th.sum(prediction.argmax(dim=1) == target)\n",
        "\n",
        "    loss /= len(loader.dataset)\n",
        "\n",
        "    percentage_correct = 100.0 * correct / len(loader.dataset)\n",
        "\n",
        "    print(\n",
        "        dataset_name + \": {:.4f}, Accuracy: {}/{} ({:.2f}%)\".format(\n",
        "            loss, correct, len(loader.dataset), percentage_correct\n",
        "        ),\n",
        "        flush=True\n",
        "    )\n",
        "\n",
        "    return loss.item(), percentage_correct.item()\n"
      ],
      "execution_count": 36,
      "outputs": []
    },
    {
      "cell_type": "code",
      "metadata": {
        "id": "E-lH_c-iI2tN"
      },
      "source": [
        "ep = 0\n",
        "# milestones = [10, 30, 50]\n",
        "test_acc, train_acc = [], []\n",
        "# optimizer = torch.optim.RMSprop(\n",
        "#     filter(lambda p: p.requires_grad, net.parameters()), lr=1e-3, momentum=0.9, weight_decay=5e-4\n",
        "# )\n",
        "# scheduler = torch.optim.lr_scheduler.MultiStepLR(\n",
        "#     optimizer, milestones=milestones, gamma=0.1\n",
        "# )"
      ],
      "execution_count": 37,
      "outputs": []
    },
    {
      "cell_type": "code",
      "metadata": {
        "colab": {
          "base_uri": "https://localhost:8080/",
          "height": 1000
        },
        "id": "gj9vgM_ET34A",
        "outputId": "e9d8b30d-8398-4477-d7cd-9b0a30316742",
        "tags": []
      },
      "source": [
        "optimizer = torch.optim.Adam(\n",
        "    net.parameters(), lr=1e-5\n",
        ")\n",
        "while True:\n",
        "    ep += 1\n",
        "    print(f\"Training epoch #{ep}\", flush=True)\n",
        "    train(net, train_loader, optimizer, ep, criterion, l2_reg=0.)\n",
        "    # scheduler.step()\n",
        "    print(\"Accuracy:\")\n",
        "    train_acc.append(test(net, train_loader, criterion, \"Train dataset\"))\n",
        "    test_acc.append(test(net, validation_loader, criterion, \"Validation dataset\"))"
      ],
      "execution_count": 41,
      "outputs": [
        {
          "output_type": "stream",
          "name": "stdout",
          "text": [
            "Training epoch #18\n",
            "100%|██████████| 235/235 [00:08<00:00, 27.08it/s]\n",
            "  0%|          | 0/235 [00:00<?, ?it/s]Epoch: 18:\n",
            "Train Set: Average Loss: 0.49\n",
            "Accuracy:\n",
            "100%|██████████| 235/235 [00:02<00:00, 98.28it/s] Train dataset: 0.0054, Accuracy: 13152/15000 (87.68%)\n",
            "\n",
            "100%|██████████| 71/71 [00:00<00:00, 104.91it/s]Validation dataset: 0.0108, Accuracy: 3206/4500 (71.24%)\n",
            "Training epoch #19\n",
            "\n",
            "100%|██████████| 235/235 [00:08<00:00, 26.15it/s]\n",
            "  0%|          | 0/235 [00:00<?, ?it/s]Epoch: 19:\n",
            "Train Set: Average Loss: 0.47\n",
            "Accuracy:\n",
            "100%|██████████| 235/235 [00:02<00:00, 94.50it/s]Train dataset: 0.0052, Accuracy: 13274/15000 (88.49%)\n",
            "\n",
            "100%|██████████| 71/71 [00:00<00:00, 103.60it/s]Validation dataset: 0.0108, Accuracy: 3233/4500 (71.84%)\n",
            "Training epoch #20\n",
            "\n",
            "100%|██████████| 235/235 [00:09<00:00, 26.06it/s]\n",
            "  0%|          | 0/235 [00:00<?, ?it/s]Epoch: 20:\n",
            "Train Set: Average Loss: 0.47\n",
            "Accuracy:\n",
            "100%|██████████| 235/235 [00:02<00:00, 99.53it/s] Train dataset: 0.0051, Accuracy: 13300/15000 (88.67%)\n",
            "\n",
            "100%|██████████| 71/71 [00:00<00:00, 100.77it/s]Validation dataset: 0.0105, Accuracy: 3265/4500 (72.56%)\n",
            "Training epoch #21\n",
            "\n",
            "100%|██████████| 235/235 [00:08<00:00, 26.49it/s]\n",
            "  0%|          | 0/235 [00:00<?, ?it/s]Epoch: 21:\n",
            "Train Set: Average Loss: 0.47\n",
            "Accuracy:\n",
            "100%|██████████| 235/235 [00:02<00:00, 102.30it/s]Train dataset: 0.0051, Accuracy: 13352/15000 (89.01%)\n",
            "\n",
            "100%|██████████| 71/71 [00:00<00:00, 102.18it/s]Validation dataset: 0.0104, Accuracy: 3249/4500 (72.20%)\n",
            "Training epoch #22\n",
            "\n",
            "100%|██████████| 235/235 [00:08<00:00, 26.44it/s]\n",
            "  0%|          | 0/235 [00:00<?, ?it/s]Epoch: 22:\n",
            "Train Set: Average Loss: 0.46\n",
            "Accuracy:\n",
            "100%|██████████| 235/235 [00:02<00:00, 100.27it/s]Train dataset: 0.0049, Accuracy: 13379/15000 (89.19%)\n",
            "\n",
            "100%|██████████| 71/71 [00:00<00:00, 96.38it/s]Validation dataset: 0.0107, Accuracy: 3266/4500 (72.58%)\n",
            "Training epoch #23\n",
            "\n",
            "100%|██████████| 235/235 [00:09<00:00, 25.89it/s]\n",
            "  0%|          | 0/235 [00:00<?, ?it/s]Epoch: 23:\n",
            "Train Set: Average Loss: 0.46\n",
            "Accuracy:\n",
            "100%|██████████| 235/235 [00:02<00:00, 95.84it/s] Train dataset: 0.0049, Accuracy: 13377/15000 (89.18%)\n",
            "\n",
            "100%|██████████| 71/71 [00:00<00:00, 94.82it/s]Validation dataset: 0.0105, Accuracy: 3256/4500 (72.36%)\n",
            "Training epoch #24\n",
            "\n",
            "100%|██████████| 235/235 [00:09<00:00, 25.11it/s]\n",
            "  0%|          | 0/235 [00:00<?, ?it/s]Epoch: 24:\n",
            "Train Set: Average Loss: 0.46\n",
            "Accuracy:\n",
            "100%|██████████| 235/235 [00:02<00:00, 100.53it/s]Train dataset: 0.0049, Accuracy: 13463/15000 (89.75%)\n",
            "\n",
            "100%|██████████| 71/71 [00:00<00:00, 98.61it/s]Validation dataset: 0.0104, Accuracy: 3260/4500 (72.44%)\n",
            "Training epoch #25\n",
            "\n",
            "100%|██████████| 235/235 [00:09<00:00, 25.61it/s]\n",
            "  0%|          | 0/235 [00:00<?, ?it/s]Epoch: 25:\n",
            "Train Set: Average Loss: 0.46\n",
            "Accuracy:\n",
            "100%|██████████| 235/235 [00:02<00:00, 102.15it/s]Train dataset: 0.0047, Accuracy: 13523/15000 (90.15%)\n",
            "\n",
            "100%|██████████| 71/71 [00:00<00:00, 94.54it/s]Validation dataset: 0.0106, Accuracy: 3274/4500 (72.76%)\n",
            "Training epoch #26\n",
            "\n",
            "100%|██████████| 235/235 [00:09<00:00, 25.76it/s]\n",
            "  0%|          | 0/235 [00:00<?, ?it/s]Epoch: 26:\n",
            "Train Set: Average Loss: 0.45\n",
            "Accuracy:\n",
            "100%|██████████| 235/235 [00:02<00:00, 91.24it/s]Train dataset: 0.0047, Accuracy: 13449/15000 (89.66%)\n",
            "\n",
            "100%|██████████| 71/71 [00:00<00:00, 100.68it/s]Validation dataset: 0.0110, Accuracy: 3227/4500 (71.71%)\n",
            "Training epoch #27\n",
            "\n",
            "100%|██████████| 235/235 [00:09<00:00, 25.31it/s]\n",
            "  0%|          | 0/235 [00:00<?, ?it/s]Epoch: 27:\n",
            "Train Set: Average Loss: 0.44\n",
            "Accuracy:\n",
            "100%|██████████| 235/235 [00:02<00:00, 97.73it/s] Train dataset: 0.0046, Accuracy: 13518/15000 (90.12%)\n",
            "\n",
            "100%|██████████| 71/71 [00:00<00:00, 95.36it/s]Validation dataset: 0.0107, Accuracy: 3244/4500 (72.09%)\n",
            "\n",
            "Training epoch #28\n",
            "100%|██████████| 235/235 [00:09<00:00, 26.03it/s]\n",
            "  0%|          | 0/235 [00:00<?, ?it/s]Epoch: 28:\n",
            "Train Set: Average Loss: 0.45\n",
            "Accuracy:\n",
            "100%|██████████| 235/235 [00:02<00:00, 100.40it/s]Train dataset: 0.0046, Accuracy: 13502/15000 (90.01%)\n",
            "\n",
            "100%|██████████| 71/71 [00:00<00:00, 96.32it/s]Validation dataset: 0.0109, Accuracy: 3227/4500 (71.71%)\n",
            "Training epoch #29\n",
            "\n",
            "100%|██████████| 235/235 [00:08<00:00, 26.43it/s]\n",
            "  0%|          | 0/235 [00:00<?, ?it/s]Epoch: 29:\n",
            "Train Set: Average Loss: 0.45\n",
            "Accuracy:\n",
            "100%|██████████| 235/235 [00:02<00:00, 100.17it/s]Train dataset: 0.0047, Accuracy: 13520/15000 (90.13%)\n",
            "\n",
            "100%|██████████| 71/71 [00:00<00:00, 100.53it/s]Validation dataset: 0.0105, Accuracy: 3273/4500 (72.73%)\n",
            "Training epoch #30\n",
            "\n",
            "100%|██████████| 235/235 [00:08<00:00, 26.25it/s]\n",
            "  0%|          | 0/235 [00:00<?, ?it/s]Epoch: 30:\n",
            "Train Set: Average Loss: 0.44\n",
            "Accuracy:\n",
            "100%|██████████| 235/235 [00:02<00:00, 99.70it/s] Train dataset: 0.0047, Accuracy: 13553/15000 (90.35%)\n",
            "\n",
            "100%|██████████| 71/71 [00:00<00:00, 99.51it/s]Validation dataset: 0.0109, Accuracy: 3231/4500 (71.80%)\n",
            "Training epoch #31\n",
            "\n",
            "100%|██████████| 235/235 [00:08<00:00, 26.49it/s]\n",
            "  0%|          | 0/235 [00:00<?, ?it/s]Epoch: 31:\n",
            "Train Set: Average Loss: 0.44\n",
            "Accuracy:\n",
            "100%|██████████| 235/235 [00:02<00:00, 101.39it/s]Train dataset: 0.0045, Accuracy: 13633/15000 (90.89%)\n",
            "\n",
            "100%|██████████| 71/71 [00:00<00:00, 97.89it/s]Validation dataset: 0.0107, Accuracy: 3255/4500 (72.33%)\n",
            "Training epoch #32\n",
            "\n",
            "100%|██████████| 235/235 [00:08<00:00, 26.58it/s]\n",
            "  0%|          | 0/235 [00:00<?, ?it/s]Epoch: 32:\n",
            "Train Set: Average Loss: 0.44\n",
            "Accuracy:\n",
            "100%|██████████| 235/235 [00:02<00:00, 98.18it/s] Train dataset: 0.0044, Accuracy: 13602/15000 (90.68%)\n",
            "\n",
            "100%|██████████| 71/71 [00:00<00:00, 102.63it/s]Validation dataset: 0.0106, Accuracy: 3282/4500 (72.93%)\n",
            "Training epoch #33\n",
            "\n",
            "100%|██████████| 235/235 [00:08<00:00, 26.88it/s]\n",
            "  0%|          | 0/235 [00:00<?, ?it/s]Epoch: 33:\n",
            "Train Set: Average Loss: 0.43\n",
            "Accuracy:\n",
            "100%|██████████| 235/235 [00:02<00:00, 99.40it/s] Train dataset: 0.0045, Accuracy: 13609/15000 (90.73%)\n",
            "\n",
            "100%|██████████| 71/71 [00:00<00:00, 100.03it/s]Validation dataset: 0.0106, Accuracy: 3248/4500 (72.18%)\n",
            "Training epoch #34\n",
            "\n",
            "100%|██████████| 235/235 [00:08<00:00, 26.70it/s]\n",
            "  0%|          | 0/235 [00:00<?, ?it/s]Epoch: 34:\n",
            "Train Set: Average Loss: 0.43\n",
            "Accuracy:\n",
            "100%|██████████| 235/235 [00:02<00:00, 101.04it/s]Train dataset: 0.0045, Accuracy: 13605/15000 (90.70%)\n",
            "\n",
            "100%|██████████| 71/71 [00:00<00:00, 102.83it/s]Validation dataset: 0.0108, Accuracy: 3219/4500 (71.53%)\n",
            "Training epoch #35\n",
            "\n",
            " 30%|███       | 71/235 [00:02<00:06, 26.07it/s]\n"
          ]
        },
        {
          "output_type": "error",
          "ename": "KeyboardInterrupt",
          "evalue": "",
          "traceback": [
            "\u001b[0;31m---------------------------------------------------------------------------\u001b[0m",
            "\u001b[0;31mKeyboardInterrupt\u001b[0m                         Traceback (most recent call last)",
            "\u001b[0;32m<ipython-input-41-c83b075c79e3>\u001b[0m in \u001b[0;36m<module>\u001b[0;34m\u001b[0m\n\u001b[1;32m      5\u001b[0m     \u001b[0mep\u001b[0m \u001b[0;34m+=\u001b[0m \u001b[0;36m1\u001b[0m\u001b[0;34m\u001b[0m\u001b[0;34m\u001b[0m\u001b[0m\n\u001b[1;32m      6\u001b[0m     \u001b[0mprint\u001b[0m\u001b[0;34m(\u001b[0m\u001b[0;34mf\"Training epoch #{ep}\"\u001b[0m\u001b[0;34m,\u001b[0m \u001b[0mflush\u001b[0m\u001b[0;34m=\u001b[0m\u001b[0;32mTrue\u001b[0m\u001b[0;34m)\u001b[0m\u001b[0;34m\u001b[0m\u001b[0;34m\u001b[0m\u001b[0m\n\u001b[0;32m----> 7\u001b[0;31m     \u001b[0mtrain\u001b[0m\u001b[0;34m(\u001b[0m\u001b[0mnet\u001b[0m\u001b[0;34m,\u001b[0m \u001b[0mtrain_loader\u001b[0m\u001b[0;34m,\u001b[0m \u001b[0moptimizer\u001b[0m\u001b[0;34m,\u001b[0m \u001b[0mep\u001b[0m\u001b[0;34m,\u001b[0m \u001b[0mcriterion\u001b[0m\u001b[0;34m,\u001b[0m \u001b[0ml2_reg\u001b[0m\u001b[0;34m=\u001b[0m\u001b[0;36m0.\u001b[0m\u001b[0;34m)\u001b[0m\u001b[0;34m\u001b[0m\u001b[0;34m\u001b[0m\u001b[0m\n\u001b[0m\u001b[1;32m      8\u001b[0m     \u001b[0;31m# scheduler.step()\u001b[0m\u001b[0;34m\u001b[0m\u001b[0;34m\u001b[0m\u001b[0;34m\u001b[0m\u001b[0m\n\u001b[1;32m      9\u001b[0m     \u001b[0mprint\u001b[0m\u001b[0;34m(\u001b[0m\u001b[0;34m\"Accuracy:\"\u001b[0m\u001b[0;34m)\u001b[0m\u001b[0;34m\u001b[0m\u001b[0;34m\u001b[0m\u001b[0m\n",
            "\u001b[0;32m<ipython-input-36-20821b3a9309>\u001b[0m in \u001b[0;36mtrain\u001b[0;34m(model, train_loader, optimizer, epoch, criterion, l2_reg)\u001b[0m\n\u001b[1;32m     22\u001b[0m         \u001b[0moptimizer\u001b[0m\u001b[0;34m.\u001b[0m\u001b[0mstep\u001b[0m\u001b[0;34m(\u001b[0m\u001b[0;34m)\u001b[0m\u001b[0;34m\u001b[0m\u001b[0;34m\u001b[0m\u001b[0m\n\u001b[1;32m     23\u001b[0m \u001b[0;34m\u001b[0m\u001b[0m\n\u001b[0;32m---> 24\u001b[0;31m         \u001b[0mtotal_loss\u001b[0m\u001b[0;34m.\u001b[0m\u001b[0mappend\u001b[0m\u001b[0;34m(\u001b[0m\u001b[0mloss\u001b[0m\u001b[0;34m.\u001b[0m\u001b[0mitem\u001b[0m\u001b[0;34m(\u001b[0m\u001b[0;34m)\u001b[0m\u001b[0;34m)\u001b[0m\u001b[0;34m\u001b[0m\u001b[0;34m\u001b[0m\u001b[0m\n\u001b[0m\u001b[1;32m     25\u001b[0m \u001b[0;34m\u001b[0m\u001b[0m\n\u001b[1;32m     26\u001b[0m     \u001b[0mavg_loss\u001b[0m \u001b[0;34m=\u001b[0m \u001b[0msum\u001b[0m\u001b[0;34m(\u001b[0m\u001b[0mtotal_loss\u001b[0m\u001b[0;34m)\u001b[0m \u001b[0;34m/\u001b[0m \u001b[0mlen\u001b[0m\u001b[0;34m(\u001b[0m\u001b[0mtotal_loss\u001b[0m\u001b[0;34m)\u001b[0m\u001b[0;34m\u001b[0m\u001b[0;34m\u001b[0m\u001b[0m\n",
            "\u001b[0;31mKeyboardInterrupt\u001b[0m: "
          ]
        }
      ]
    },
    {
      "cell_type": "code",
      "metadata": {
        "colab": {
          "base_uri": "https://localhost:8080/"
        },
        "id": "-dIhTjoMJvK6",
        "outputId": "47eb6195-e24f-4d34-b3dd-23a9b285ccd3"
      },
      "source": [
        "test(net, train_loader, criterion, \"Train\")\n",
        "test(net, validation_loader, criterion, \"Validation\")"
      ],
      "execution_count": 39,
      "outputs": [
        {
          "output_type": "stream",
          "name": "stderr",
          "text": [
            "100%|██████████| 235/235 [00:02<00:00, 100.02it/s]Train: 0.0062, Accuracy: 12515/15000 (83.43%)\n",
            "\n",
            "100%|██████████| 71/71 [00:00<00:00, 91.41it/s]Validation: 0.0078, Accuracy: 3433/4500 (76.29%)\n",
            "\n"
          ]
        },
        {
          "output_type": "execute_result",
          "data": {
            "text/plain": [
              "(0.0078255794942379, 76.28888702392578)"
            ]
          },
          "metadata": {},
          "execution_count": 39
        }
      ]
    },
    {
      "cell_type": "code",
      "execution_count": 16,
      "metadata": {},
      "outputs": [
        {
          "output_type": "stream",
          "name": "stderr",
          "text": [
            "100%|██████████| 79/79 [00:00<00:00, 88.20it/s]\n"
          ]
        }
      ],
      "source": [
        "def ConfusionArrays(model, loader, criterion, dataset_name):\n",
        "    model.eval()\n",
        "\n",
        "    loss = 0\n",
        "    correct = 0\n",
        "\n",
        "    labels = []\n",
        "    predictions = []\n",
        "\n",
        "    for data, target in tqdm(loader):\n",
        "        with torch.no_grad():\n",
        "            data = data.cuda()\n",
        "            target = target.cuda()\n",
        "\n",
        "            prediction = model(data)\n",
        "            \n",
        "            for i in target:\n",
        "                labels.append(i.item())\n",
        "            for i in prediction:\n",
        "                predictions.append(th.argmax(i).item())\n",
        "    \n",
        "    return labels, predictions\n",
        "labels, predicted = ConfusionArrays(net, validation_loader, criterion, \"Validation\")"
      ]
    },
    {
      "cell_type": "code",
      "execution_count": 17,
      "metadata": {},
      "outputs": [
        {
          "output_type": "execute_result",
          "data": {
            "text/plain": [
              "<matplotlib.image.AxesImage at 0x7f31ada61c70>"
            ]
          },
          "metadata": {},
          "execution_count": 17
        },
        {
          "output_type": "display_data",
          "data": {
            "text/plain": "<Figure size 432x288 with 1 Axes>",
            "image/svg+xml": "<?xml version=\"1.0\" encoding=\"utf-8\" standalone=\"no\"?>\n<!DOCTYPE svg PUBLIC \"-//W3C//DTD SVG 1.1//EN\"\n  \"http://www.w3.org/Graphics/SVG/1.1/DTD/svg11.dtd\">\n<!-- Created with matplotlib (https://matplotlib.org/) -->\n<svg height=\"248.518125pt\" version=\"1.1\" viewBox=\"0 0 245.2025 248.518125\" width=\"245.2025pt\" xmlns=\"http://www.w3.org/2000/svg\" xmlns:xlink=\"http://www.w3.org/1999/xlink\">\n <metadata>\n  <rdf:RDF xmlns:cc=\"http://creativecommons.org/ns#\" xmlns:dc=\"http://purl.org/dc/elements/1.1/\" xmlns:rdf=\"http://www.w3.org/1999/02/22-rdf-syntax-ns#\">\n   <cc:Work>\n    <dc:type rdf:resource=\"http://purl.org/dc/dcmitype/StillImage\"/>\n    <dc:date>2021-04-13T21:31:40.529778</dc:date>\n    <dc:format>image/svg+xml</dc:format>\n    <dc:creator>\n     <cc:Agent>\n      <dc:title>Matplotlib v3.3.2, https://matplotlib.org/</dc:title>\n     </cc:Agent>\n    </dc:creator>\n   </cc:Work>\n  </rdf:RDF>\n </metadata>\n <defs>\n  <style type=\"text/css\">*{stroke-linecap:butt;stroke-linejoin:round;}</style>\n </defs>\n <g id=\"figure_1\">\n  <g id=\"patch_1\">\n   <path d=\"M 0 248.518125 \nL 245.2025 248.518125 \nL 245.2025 0 \nL 0 0 \nz\n\" style=\"fill:none;\"/>\n  </g>\n  <g id=\"axes_1\">\n   <g id=\"patch_2\">\n    <path d=\"M 20.5625 224.64 \nL 238.0025 224.64 \nL 238.0025 7.2 \nL 20.5625 7.2 \nz\n\" style=\"fill:#ffffff;\"/>\n   </g>\n   <g clip-path=\"url(#pf3446d66e2)\">\n    <image height=\"218\" id=\"imagedf425954e3\" transform=\"scale(1 -1)translate(0 -218)\" width=\"218\" x=\"20.5625\" xlink:href=\"data:image/png;base64,\niVBORw0KGgoAAAANSUhEUgAAANoAAADaCAYAAADAHVzbAAAEMklEQVR4nO3cu0qrURSF0aVGjvGOSCzEQgSx8/IavrmVYCMIFoKIIPgXQYxJ9DzFmtUYDzB3yM/H7vbKycnJXzX6/f3tnK/X19fW/aqqyWTSuj+bzVr3x+Nx6/7BwUHrflX/dx6GoXV/tXUdqCqhQYTQIEBoECA0CBAaBAgNAoQGAUKDAKFBgNAgQGgQIDQIEBoECA0ChAYBQoMAoUGA0CBAaBAgNAgQGgQIDQJGa2trrQdsbW217p+fn7fuV1Xt7u627n98fLTuHx4etu6/vb217ldVPTw8tO4fHR217rvRIEBoECA0CBAaBAgNAoQGAUKDAKFBgNAgQGgQIDQIEBoECA0ChAYBQoMAoUGA0CBAaBAgNAgQGgQIDQKEBgFCg4DRaDRqPeD7+7t1fz6ft+5XVQ3D0H5Gp/f399b9l5eX1v2qqslk0rq/s7PTuu9GgwChQYDQIEBoECA0CBAaBAgNAoQGAUKDAKFBgNAgQGgQIDQIEBoECA0ChAYBQoMAoUGA0CBAaBAgNAgQGgQIDQKEBgEre3t7f50HLBaLzvk6Pj5u3a+q2tjYaN3//Pxs3X96emrdPzs7a92vqloul637v7+/rftuNAgQGgQIDQKEBgFCgwChQYDQIEBoECA0CBAaBAgNAoQGAUKDAKFBgNAgQGgQIDQIEBoECA0ChAYBQoMAoUGA0CBgtL+/33pA93t53b+/qurn56d1//7+vnX/6uqqdX86nbbuV/V/53///rXuu9EgQGgQIDQIEBoECA0ChAYBQoMAoUGA0CBAaBAgNAgQGgQIDQKEBgFCgwChQYDQIEBoECA0CBAaBAgNAoQGAUKDgNFisWg9oPvNv83Nzdb9qv53Fy8vL1v3Z7NZ6/54PG7dT9jZ2Wndd6NBgNAgQGgQIDQIEBoECA0ChAYBQoMAoUGA0CBAaBAgNAgQGgQIDQKEBgFCgwChQYDQIEBoECA0CBAaBAgNAoQGASuTyeSv84DV1d6WHx8fW/erqm5ublr319fXW/f//lo/cQ3D0LpfVbW9vd26//z83LrvRoMAoUGA0CBAaBAgNAgQGgQIDQKEBgFCgwChQYDQIEBoECA0CBAaBAgNAoQGAUKDAKFBgNAgQGgQIDQIEBoECA0ChAYBo+4HTp+enlr3r6+vW/erqpbLZev+dDpt3e/W/f9UVc3n8/YzOrnRIEBoECA0CBAaBAgNAoQGAUKDAKFBgNAgQGgQIDQIEBoECA0ChAYBQoMAoUGA0CBAaBAgNAgQGgQIDQKEBgFCg4CV19fXv84Dbm9vO+drGIbW/ar+dwsvLi5a9+/u7lr3T09PW/erqr6+vlr3J5NJ674bDQKEBgFCgwChQYDQIEBoECA0CBAaBAgNAoQGAUKDAKFBgNAgQGgQIDQIEBoECA0ChAYBQoMAoUGA0CBAaBAgNAj4DzrJfsisWsQoAAAAAElFTkSuQmCC\" y=\"-6.64\"/>\n   </g>\n   <g id=\"matplotlib.axis_1\">\n    <g id=\"xtick_1\">\n     <g id=\"line2d_1\">\n      <defs>\n       <path d=\"M 0 0 \nL 0 3.5 \n\" id=\"m293f69369f\" style=\"stroke:#000000;stroke-width:0.8;\"/>\n      </defs>\n      <g>\n       <use style=\"stroke:#000000;stroke-width:0.8;\" x=\"32.6425\" xlink:href=\"#m293f69369f\" y=\"224.64\"/>\n      </g>\n     </g>\n     <g id=\"text_1\">\n      <!-- 0 -->\n      <g transform=\"translate(29.46125 239.238437)scale(0.1 -0.1)\">\n       <defs>\n        <path d=\"M 31.78125 66.40625 \nQ 24.171875 66.40625 20.328125 58.90625 \nQ 16.5 51.421875 16.5 36.375 \nQ 16.5 21.390625 20.328125 13.890625 \nQ 24.171875 6.390625 31.78125 6.390625 \nQ 39.453125 6.390625 43.28125 13.890625 \nQ 47.125 21.390625 47.125 36.375 \nQ 47.125 51.421875 43.28125 58.90625 \nQ 39.453125 66.40625 31.78125 66.40625 \nz\nM 31.78125 74.21875 \nQ 44.046875 74.21875 50.515625 64.515625 \nQ 56.984375 54.828125 56.984375 36.375 \nQ 56.984375 17.96875 50.515625 8.265625 \nQ 44.046875 -1.421875 31.78125 -1.421875 \nQ 19.53125 -1.421875 13.0625 8.265625 \nQ 6.59375 17.96875 6.59375 36.375 \nQ 6.59375 54.828125 13.0625 64.515625 \nQ 19.53125 74.21875 31.78125 74.21875 \nz\n\" id=\"DejaVuSans-48\"/>\n       </defs>\n       <use xlink:href=\"#DejaVuSans-48\"/>\n      </g>\n     </g>\n    </g>\n    <g id=\"xtick_2\">\n     <g id=\"line2d_2\">\n      <g>\n       <use style=\"stroke:#000000;stroke-width:0.8;\" x=\"80.9625\" xlink:href=\"#m293f69369f\" y=\"224.64\"/>\n      </g>\n     </g>\n     <g id=\"text_2\">\n      <!-- 2 -->\n      <g transform=\"translate(77.78125 239.238437)scale(0.1 -0.1)\">\n       <defs>\n        <path d=\"M 19.1875 8.296875 \nL 53.609375 8.296875 \nL 53.609375 0 \nL 7.328125 0 \nL 7.328125 8.296875 \nQ 12.9375 14.109375 22.625 23.890625 \nQ 32.328125 33.6875 34.8125 36.53125 \nQ 39.546875 41.84375 41.421875 45.53125 \nQ 43.3125 49.21875 43.3125 52.78125 \nQ 43.3125 58.59375 39.234375 62.25 \nQ 35.15625 65.921875 28.609375 65.921875 \nQ 23.96875 65.921875 18.8125 64.3125 \nQ 13.671875 62.703125 7.8125 59.421875 \nL 7.8125 69.390625 \nQ 13.765625 71.78125 18.9375 73 \nQ 24.125 74.21875 28.421875 74.21875 \nQ 39.75 74.21875 46.484375 68.546875 \nQ 53.21875 62.890625 53.21875 53.421875 \nQ 53.21875 48.921875 51.53125 44.890625 \nQ 49.859375 40.875 45.40625 35.40625 \nQ 44.1875 33.984375 37.640625 27.21875 \nQ 31.109375 20.453125 19.1875 8.296875 \nz\n\" id=\"DejaVuSans-50\"/>\n       </defs>\n       <use xlink:href=\"#DejaVuSans-50\"/>\n      </g>\n     </g>\n    </g>\n    <g id=\"xtick_3\">\n     <g id=\"line2d_3\">\n      <g>\n       <use style=\"stroke:#000000;stroke-width:0.8;\" x=\"129.2825\" xlink:href=\"#m293f69369f\" y=\"224.64\"/>\n      </g>\n     </g>\n     <g id=\"text_3\">\n      <!-- 4 -->\n      <g transform=\"translate(126.10125 239.238437)scale(0.1 -0.1)\">\n       <defs>\n        <path d=\"M 37.796875 64.3125 \nL 12.890625 25.390625 \nL 37.796875 25.390625 \nz\nM 35.203125 72.90625 \nL 47.609375 72.90625 \nL 47.609375 25.390625 \nL 58.015625 25.390625 \nL 58.015625 17.1875 \nL 47.609375 17.1875 \nL 47.609375 0 \nL 37.796875 0 \nL 37.796875 17.1875 \nL 4.890625 17.1875 \nL 4.890625 26.703125 \nz\n\" id=\"DejaVuSans-52\"/>\n       </defs>\n       <use xlink:href=\"#DejaVuSans-52\"/>\n      </g>\n     </g>\n    </g>\n    <g id=\"xtick_4\">\n     <g id=\"line2d_4\">\n      <g>\n       <use style=\"stroke:#000000;stroke-width:0.8;\" x=\"177.6025\" xlink:href=\"#m293f69369f\" y=\"224.64\"/>\n      </g>\n     </g>\n     <g id=\"text_4\">\n      <!-- 6 -->\n      <g transform=\"translate(174.42125 239.238437)scale(0.1 -0.1)\">\n       <defs>\n        <path d=\"M 33.015625 40.375 \nQ 26.375 40.375 22.484375 35.828125 \nQ 18.609375 31.296875 18.609375 23.390625 \nQ 18.609375 15.53125 22.484375 10.953125 \nQ 26.375 6.390625 33.015625 6.390625 \nQ 39.65625 6.390625 43.53125 10.953125 \nQ 47.40625 15.53125 47.40625 23.390625 \nQ 47.40625 31.296875 43.53125 35.828125 \nQ 39.65625 40.375 33.015625 40.375 \nz\nM 52.59375 71.296875 \nL 52.59375 62.3125 \nQ 48.875 64.0625 45.09375 64.984375 \nQ 41.3125 65.921875 37.59375 65.921875 \nQ 27.828125 65.921875 22.671875 59.328125 \nQ 17.53125 52.734375 16.796875 39.40625 \nQ 19.671875 43.65625 24.015625 45.921875 \nQ 28.375 48.1875 33.59375 48.1875 \nQ 44.578125 48.1875 50.953125 41.515625 \nQ 57.328125 34.859375 57.328125 23.390625 \nQ 57.328125 12.15625 50.6875 5.359375 \nQ 44.046875 -1.421875 33.015625 -1.421875 \nQ 20.359375 -1.421875 13.671875 8.265625 \nQ 6.984375 17.96875 6.984375 36.375 \nQ 6.984375 53.65625 15.1875 63.9375 \nQ 23.390625 74.21875 37.203125 74.21875 \nQ 40.921875 74.21875 44.703125 73.484375 \nQ 48.484375 72.75 52.59375 71.296875 \nz\n\" id=\"DejaVuSans-54\"/>\n       </defs>\n       <use xlink:href=\"#DejaVuSans-54\"/>\n      </g>\n     </g>\n    </g>\n    <g id=\"xtick_5\">\n     <g id=\"line2d_5\">\n      <g>\n       <use style=\"stroke:#000000;stroke-width:0.8;\" x=\"225.9225\" xlink:href=\"#m293f69369f\" y=\"224.64\"/>\n      </g>\n     </g>\n     <g id=\"text_5\">\n      <!-- 8 -->\n      <g transform=\"translate(222.74125 239.238437)scale(0.1 -0.1)\">\n       <defs>\n        <path d=\"M 31.78125 34.625 \nQ 24.75 34.625 20.71875 30.859375 \nQ 16.703125 27.09375 16.703125 20.515625 \nQ 16.703125 13.921875 20.71875 10.15625 \nQ 24.75 6.390625 31.78125 6.390625 \nQ 38.8125 6.390625 42.859375 10.171875 \nQ 46.921875 13.96875 46.921875 20.515625 \nQ 46.921875 27.09375 42.890625 30.859375 \nQ 38.875 34.625 31.78125 34.625 \nz\nM 21.921875 38.8125 \nQ 15.578125 40.375 12.03125 44.71875 \nQ 8.5 49.078125 8.5 55.328125 \nQ 8.5 64.0625 14.71875 69.140625 \nQ 20.953125 74.21875 31.78125 74.21875 \nQ 42.671875 74.21875 48.875 69.140625 \nQ 55.078125 64.0625 55.078125 55.328125 \nQ 55.078125 49.078125 51.53125 44.71875 \nQ 48 40.375 41.703125 38.8125 \nQ 48.828125 37.15625 52.796875 32.3125 \nQ 56.78125 27.484375 56.78125 20.515625 \nQ 56.78125 9.90625 50.3125 4.234375 \nQ 43.84375 -1.421875 31.78125 -1.421875 \nQ 19.734375 -1.421875 13.25 4.234375 \nQ 6.78125 9.90625 6.78125 20.515625 \nQ 6.78125 27.484375 10.78125 32.3125 \nQ 14.796875 37.15625 21.921875 38.8125 \nz\nM 18.3125 54.390625 \nQ 18.3125 48.734375 21.84375 45.5625 \nQ 25.390625 42.390625 31.78125 42.390625 \nQ 38.140625 42.390625 41.71875 45.5625 \nQ 45.3125 48.734375 45.3125 54.390625 \nQ 45.3125 60.0625 41.71875 63.234375 \nQ 38.140625 66.40625 31.78125 66.40625 \nQ 25.390625 66.40625 21.84375 63.234375 \nQ 18.3125 60.0625 18.3125 54.390625 \nz\n\" id=\"DejaVuSans-56\"/>\n       </defs>\n       <use xlink:href=\"#DejaVuSans-56\"/>\n      </g>\n     </g>\n    </g>\n   </g>\n   <g id=\"matplotlib.axis_2\">\n    <g id=\"ytick_1\">\n     <g id=\"line2d_6\">\n      <defs>\n       <path d=\"M 0 0 \nL -3.5 0 \n\" id=\"mafc556030b\" style=\"stroke:#000000;stroke-width:0.8;\"/>\n      </defs>\n      <g>\n       <use style=\"stroke:#000000;stroke-width:0.8;\" x=\"20.5625\" xlink:href=\"#mafc556030b\" y=\"19.28\"/>\n      </g>\n     </g>\n     <g id=\"text_6\">\n      <!-- 0 -->\n      <g transform=\"translate(7.2 23.079219)scale(0.1 -0.1)\">\n       <use xlink:href=\"#DejaVuSans-48\"/>\n      </g>\n     </g>\n    </g>\n    <g id=\"ytick_2\">\n     <g id=\"line2d_7\">\n      <g>\n       <use style=\"stroke:#000000;stroke-width:0.8;\" x=\"20.5625\" xlink:href=\"#mafc556030b\" y=\"43.44\"/>\n      </g>\n     </g>\n     <g id=\"text_7\">\n      <!-- 1 -->\n      <g transform=\"translate(7.2 47.239219)scale(0.1 -0.1)\">\n       <defs>\n        <path d=\"M 12.40625 8.296875 \nL 28.515625 8.296875 \nL 28.515625 63.921875 \nL 10.984375 60.40625 \nL 10.984375 69.390625 \nL 28.421875 72.90625 \nL 38.28125 72.90625 \nL 38.28125 8.296875 \nL 54.390625 8.296875 \nL 54.390625 0 \nL 12.40625 0 \nz\n\" id=\"DejaVuSans-49\"/>\n       </defs>\n       <use xlink:href=\"#DejaVuSans-49\"/>\n      </g>\n     </g>\n    </g>\n    <g id=\"ytick_3\">\n     <g id=\"line2d_8\">\n      <g>\n       <use style=\"stroke:#000000;stroke-width:0.8;\" x=\"20.5625\" xlink:href=\"#mafc556030b\" y=\"67.6\"/>\n      </g>\n     </g>\n     <g id=\"text_8\">\n      <!-- 2 -->\n      <g transform=\"translate(7.2 71.399219)scale(0.1 -0.1)\">\n       <use xlink:href=\"#DejaVuSans-50\"/>\n      </g>\n     </g>\n    </g>\n    <g id=\"ytick_4\">\n     <g id=\"line2d_9\">\n      <g>\n       <use style=\"stroke:#000000;stroke-width:0.8;\" x=\"20.5625\" xlink:href=\"#mafc556030b\" y=\"91.76\"/>\n      </g>\n     </g>\n     <g id=\"text_9\">\n      <!-- 3 -->\n      <g transform=\"translate(7.2 95.559219)scale(0.1 -0.1)\">\n       <defs>\n        <path d=\"M 40.578125 39.3125 \nQ 47.65625 37.796875 51.625 33 \nQ 55.609375 28.21875 55.609375 21.1875 \nQ 55.609375 10.40625 48.1875 4.484375 \nQ 40.765625 -1.421875 27.09375 -1.421875 \nQ 22.515625 -1.421875 17.65625 -0.515625 \nQ 12.796875 0.390625 7.625 2.203125 \nL 7.625 11.71875 \nQ 11.71875 9.328125 16.59375 8.109375 \nQ 21.484375 6.890625 26.8125 6.890625 \nQ 36.078125 6.890625 40.9375 10.546875 \nQ 45.796875 14.203125 45.796875 21.1875 \nQ 45.796875 27.640625 41.28125 31.265625 \nQ 36.765625 34.90625 28.71875 34.90625 \nL 20.21875 34.90625 \nL 20.21875 43.015625 \nL 29.109375 43.015625 \nQ 36.375 43.015625 40.234375 45.921875 \nQ 44.09375 48.828125 44.09375 54.296875 \nQ 44.09375 59.90625 40.109375 62.90625 \nQ 36.140625 65.921875 28.71875 65.921875 \nQ 24.65625 65.921875 20.015625 65.03125 \nQ 15.375 64.15625 9.8125 62.3125 \nL 9.8125 71.09375 \nQ 15.4375 72.65625 20.34375 73.4375 \nQ 25.25 74.21875 29.59375 74.21875 \nQ 40.828125 74.21875 47.359375 69.109375 \nQ 53.90625 64.015625 53.90625 55.328125 \nQ 53.90625 49.265625 50.4375 45.09375 \nQ 46.96875 40.921875 40.578125 39.3125 \nz\n\" id=\"DejaVuSans-51\"/>\n       </defs>\n       <use xlink:href=\"#DejaVuSans-51\"/>\n      </g>\n     </g>\n    </g>\n    <g id=\"ytick_5\">\n     <g id=\"line2d_10\">\n      <g>\n       <use style=\"stroke:#000000;stroke-width:0.8;\" x=\"20.5625\" xlink:href=\"#mafc556030b\" y=\"115.92\"/>\n      </g>\n     </g>\n     <g id=\"text_10\">\n      <!-- 4 -->\n      <g transform=\"translate(7.2 119.719219)scale(0.1 -0.1)\">\n       <use xlink:href=\"#DejaVuSans-52\"/>\n      </g>\n     </g>\n    </g>\n    <g id=\"ytick_6\">\n     <g id=\"line2d_11\">\n      <g>\n       <use style=\"stroke:#000000;stroke-width:0.8;\" x=\"20.5625\" xlink:href=\"#mafc556030b\" y=\"140.08\"/>\n      </g>\n     </g>\n     <g id=\"text_11\">\n      <!-- 5 -->\n      <g transform=\"translate(7.2 143.879219)scale(0.1 -0.1)\">\n       <defs>\n        <path d=\"M 10.796875 72.90625 \nL 49.515625 72.90625 \nL 49.515625 64.59375 \nL 19.828125 64.59375 \nL 19.828125 46.734375 \nQ 21.96875 47.46875 24.109375 47.828125 \nQ 26.265625 48.1875 28.421875 48.1875 \nQ 40.625 48.1875 47.75 41.5 \nQ 54.890625 34.8125 54.890625 23.390625 \nQ 54.890625 11.625 47.5625 5.09375 \nQ 40.234375 -1.421875 26.90625 -1.421875 \nQ 22.3125 -1.421875 17.546875 -0.640625 \nQ 12.796875 0.140625 7.71875 1.703125 \nL 7.71875 11.625 \nQ 12.109375 9.234375 16.796875 8.0625 \nQ 21.484375 6.890625 26.703125 6.890625 \nQ 35.15625 6.890625 40.078125 11.328125 \nQ 45.015625 15.765625 45.015625 23.390625 \nQ 45.015625 31 40.078125 35.4375 \nQ 35.15625 39.890625 26.703125 39.890625 \nQ 22.75 39.890625 18.8125 39.015625 \nQ 14.890625 38.140625 10.796875 36.28125 \nz\n\" id=\"DejaVuSans-53\"/>\n       </defs>\n       <use xlink:href=\"#DejaVuSans-53\"/>\n      </g>\n     </g>\n    </g>\n    <g id=\"ytick_7\">\n     <g id=\"line2d_12\">\n      <g>\n       <use style=\"stroke:#000000;stroke-width:0.8;\" x=\"20.5625\" xlink:href=\"#mafc556030b\" y=\"164.24\"/>\n      </g>\n     </g>\n     <g id=\"text_12\">\n      <!-- 6 -->\n      <g transform=\"translate(7.2 168.039219)scale(0.1 -0.1)\">\n       <use xlink:href=\"#DejaVuSans-54\"/>\n      </g>\n     </g>\n    </g>\n    <g id=\"ytick_8\">\n     <g id=\"line2d_13\">\n      <g>\n       <use style=\"stroke:#000000;stroke-width:0.8;\" x=\"20.5625\" xlink:href=\"#mafc556030b\" y=\"188.4\"/>\n      </g>\n     </g>\n     <g id=\"text_13\">\n      <!-- 7 -->\n      <g transform=\"translate(7.2 192.199219)scale(0.1 -0.1)\">\n       <defs>\n        <path d=\"M 8.203125 72.90625 \nL 55.078125 72.90625 \nL 55.078125 68.703125 \nL 28.609375 0 \nL 18.3125 0 \nL 43.21875 64.59375 \nL 8.203125 64.59375 \nz\n\" id=\"DejaVuSans-55\"/>\n       </defs>\n       <use xlink:href=\"#DejaVuSans-55\"/>\n      </g>\n     </g>\n    </g>\n    <g id=\"ytick_9\">\n     <g id=\"line2d_14\">\n      <g>\n       <use style=\"stroke:#000000;stroke-width:0.8;\" x=\"20.5625\" xlink:href=\"#mafc556030b\" y=\"212.56\"/>\n      </g>\n     </g>\n     <g id=\"text_14\">\n      <!-- 8 -->\n      <g transform=\"translate(7.2 216.359219)scale(0.1 -0.1)\">\n       <use xlink:href=\"#DejaVuSans-56\"/>\n      </g>\n     </g>\n    </g>\n   </g>\n   <g id=\"patch_3\">\n    <path d=\"M 20.5625 224.64 \nL 20.5625 7.2 \n\" style=\"fill:none;stroke:#000000;stroke-linecap:square;stroke-linejoin:miter;stroke-width:0.8;\"/>\n   </g>\n   <g id=\"patch_4\">\n    <path d=\"M 238.0025 224.64 \nL 238.0025 7.2 \n\" style=\"fill:none;stroke:#000000;stroke-linecap:square;stroke-linejoin:miter;stroke-width:0.8;\"/>\n   </g>\n   <g id=\"patch_5\">\n    <path d=\"M 20.5625 224.64 \nL 238.0025 224.64 \n\" style=\"fill:none;stroke:#000000;stroke-linecap:square;stroke-linejoin:miter;stroke-width:0.8;\"/>\n   </g>\n   <g id=\"patch_6\">\n    <path d=\"M 20.5625 7.2 \nL 238.0025 7.2 \n\" style=\"fill:none;stroke:#000000;stroke-linecap:square;stroke-linejoin:miter;stroke-width:0.8;\"/>\n   </g>\n  </g>\n </g>\n <defs>\n  <clipPath id=\"pf3446d66e2\">\n   <rect height=\"217.44\" width=\"217.44\" x=\"20.5625\" y=\"7.2\"/>\n  </clipPath>\n </defs>\n</svg>\n",
            "image/png": "[encoded data removed]"
          },
          "metadata": {
            "needs_background": "light"
          }
        }
      ],
      "source": [
        "plt.imshow(np.sqrt(confusion_matrix(labels, predicted)), cmap='gray')"
      ]
    },
    {
      "cell_type": "code",
      "execution_count": 110,
      "metadata": {},
      "outputs": [
        {
          "output_type": "display_data",
          "data": {
            "text/plain": "<Figure size 432x288 with 1 Axes>",
            "image/svg+xml": "<?xml version=\"1.0\" encoding=\"utf-8\" standalone=\"no\"?>\n<!DOCTYPE svg PUBLIC \"-//W3C//DTD SVG 1.1//EN\"\n  \"http://www.w3.org/Graphics/SVG/1.1/DTD/svg11.dtd\">\n<!-- Created with matplotlib (https://matplotlib.org/) -->\n<svg height=\"250.357701pt\" version=\"1.1\" viewBox=\"0 0 375.2875 250.357701\" width=\"375.2875pt\" xmlns=\"http://www.w3.org/2000/svg\" xmlns:xlink=\"http://www.w3.org/1999/xlink\">\n <metadata>\n  <rdf:RDF xmlns:cc=\"http://creativecommons.org/ns#\" xmlns:dc=\"http://purl.org/dc/elements/1.1/\" xmlns:rdf=\"http://www.w3.org/1999/02/22-rdf-syntax-ns#\">\n   <cc:Work>\n    <dc:type rdf:resource=\"http://purl.org/dc/dcmitype/StillImage\"/>\n    <dc:date>2021-04-06T22:11:07.497823</dc:date>\n    <dc:format>image/svg+xml</dc:format>\n    <dc:creator>\n     <cc:Agent>\n      <dc:title>Matplotlib v3.3.2, https://matplotlib.org/</dc:title>\n     </cc:Agent>\n    </dc:creator>\n   </cc:Work>\n  </rdf:RDF>\n </metadata>\n <defs>\n  <style type=\"text/css\">*{stroke-linecap:butt;stroke-linejoin:round;}</style>\n </defs>\n <g id=\"figure_1\">\n  <g id=\"patch_1\">\n   <path d=\"M 0 250.357701 \nL 375.2875 250.357701 \nL 375.2875 0 \nL 0 0 \nz\n\" style=\"fill:none;\"/>\n  </g>\n  <g id=\"axes_1\">\n   <g id=\"patch_2\">\n    <path d=\"M 33.2875 226.479576 \nL 368.0875 226.479576 \nL 368.0875 9.039576 \nL 33.2875 9.039576 \nz\n\" style=\"fill:#ffffff;\"/>\n   </g>\n   <g id=\"matplotlib.axis_1\">\n    <g id=\"xtick_1\">\n     <g id=\"line2d_1\">\n      <defs>\n       <path d=\"M 0 0 \nL 0 3.5 \n\" id=\"mc4bd0eac6a\" style=\"stroke:#000000;stroke-width:0.8;\"/>\n      </defs>\n      <g>\n       <use style=\"stroke:#000000;stroke-width:0.8;\" x=\"48.505682\" xlink:href=\"#mc4bd0eac6a\" y=\"226.479576\"/>\n      </g>\n     </g>\n     <g id=\"text_1\">\n      <!-- 0 -->\n      <g transform=\"translate(45.324432 241.078014)scale(0.1 -0.1)\">\n       <defs>\n        <path d=\"M 31.78125 66.40625 \nQ 24.171875 66.40625 20.328125 58.90625 \nQ 16.5 51.421875 16.5 36.375 \nQ 16.5 21.390625 20.328125 13.890625 \nQ 24.171875 6.390625 31.78125 6.390625 \nQ 39.453125 6.390625 43.28125 13.890625 \nQ 47.125 21.390625 47.125 36.375 \nQ 47.125 51.421875 43.28125 58.90625 \nQ 39.453125 66.40625 31.78125 66.40625 \nz\nM 31.78125 74.21875 \nQ 44.046875 74.21875 50.515625 64.515625 \nQ 56.984375 54.828125 56.984375 36.375 \nQ 56.984375 17.96875 50.515625 8.265625 \nQ 44.046875 -1.421875 31.78125 -1.421875 \nQ 19.53125 -1.421875 13.0625 8.265625 \nQ 6.59375 17.96875 6.59375 36.375 \nQ 6.59375 54.828125 13.0625 64.515625 \nQ 19.53125 74.21875 31.78125 74.21875 \nz\n\" id=\"DejaVuSans-48\"/>\n       </defs>\n       <use xlink:href=\"#DejaVuSans-48\"/>\n      </g>\n     </g>\n    </g>\n    <g id=\"xtick_2\">\n     <g id=\"line2d_2\">\n      <g>\n       <use style=\"stroke:#000000;stroke-width:0.8;\" x=\"91.986201\" xlink:href=\"#mc4bd0eac6a\" y=\"226.479576\"/>\n      </g>\n     </g>\n     <g id=\"text_2\">\n      <!-- 2 -->\n      <g transform=\"translate(88.804951 241.078014)scale(0.1 -0.1)\">\n       <defs>\n        <path d=\"M 19.1875 8.296875 \nL 53.609375 8.296875 \nL 53.609375 0 \nL 7.328125 0 \nL 7.328125 8.296875 \nQ 12.9375 14.109375 22.625 23.890625 \nQ 32.328125 33.6875 34.8125 36.53125 \nQ 39.546875 41.84375 41.421875 45.53125 \nQ 43.3125 49.21875 43.3125 52.78125 \nQ 43.3125 58.59375 39.234375 62.25 \nQ 35.15625 65.921875 28.609375 65.921875 \nQ 23.96875 65.921875 18.8125 64.3125 \nQ 13.671875 62.703125 7.8125 59.421875 \nL 7.8125 69.390625 \nQ 13.765625 71.78125 18.9375 73 \nQ 24.125 74.21875 28.421875 74.21875 \nQ 39.75 74.21875 46.484375 68.546875 \nQ 53.21875 62.890625 53.21875 53.421875 \nQ 53.21875 48.921875 51.53125 44.890625 \nQ 49.859375 40.875 45.40625 35.40625 \nQ 44.1875 33.984375 37.640625 27.21875 \nQ 31.109375 20.453125 19.1875 8.296875 \nz\n\" id=\"DejaVuSans-50\"/>\n       </defs>\n       <use xlink:href=\"#DejaVuSans-50\"/>\n      </g>\n     </g>\n    </g>\n    <g id=\"xtick_3\">\n     <g id=\"line2d_3\">\n      <g>\n       <use style=\"stroke:#000000;stroke-width:0.8;\" x=\"135.466721\" xlink:href=\"#mc4bd0eac6a\" y=\"226.479576\"/>\n      </g>\n     </g>\n     <g id=\"text_3\">\n      <!-- 4 -->\n      <g transform=\"translate(132.285471 241.078014)scale(0.1 -0.1)\">\n       <defs>\n        <path d=\"M 37.796875 64.3125 \nL 12.890625 25.390625 \nL 37.796875 25.390625 \nz\nM 35.203125 72.90625 \nL 47.609375 72.90625 \nL 47.609375 25.390625 \nL 58.015625 25.390625 \nL 58.015625 17.1875 \nL 47.609375 17.1875 \nL 47.609375 0 \nL 37.796875 0 \nL 37.796875 17.1875 \nL 4.890625 17.1875 \nL 4.890625 26.703125 \nz\n\" id=\"DejaVuSans-52\"/>\n       </defs>\n       <use xlink:href=\"#DejaVuSans-52\"/>\n      </g>\n     </g>\n    </g>\n    <g id=\"xtick_4\">\n     <g id=\"line2d_4\">\n      <g>\n       <use style=\"stroke:#000000;stroke-width:0.8;\" x=\"178.94724\" xlink:href=\"#mc4bd0eac6a\" y=\"226.479576\"/>\n      </g>\n     </g>\n     <g id=\"text_4\">\n      <!-- 6 -->\n      <g transform=\"translate(175.76599 241.078014)scale(0.1 -0.1)\">\n       <defs>\n        <path d=\"M 33.015625 40.375 \nQ 26.375 40.375 22.484375 35.828125 \nQ 18.609375 31.296875 18.609375 23.390625 \nQ 18.609375 15.53125 22.484375 10.953125 \nQ 26.375 6.390625 33.015625 6.390625 \nQ 39.65625 6.390625 43.53125 10.953125 \nQ 47.40625 15.53125 47.40625 23.390625 \nQ 47.40625 31.296875 43.53125 35.828125 \nQ 39.65625 40.375 33.015625 40.375 \nz\nM 52.59375 71.296875 \nL 52.59375 62.3125 \nQ 48.875 64.0625 45.09375 64.984375 \nQ 41.3125 65.921875 37.59375 65.921875 \nQ 27.828125 65.921875 22.671875 59.328125 \nQ 17.53125 52.734375 16.796875 39.40625 \nQ 19.671875 43.65625 24.015625 45.921875 \nQ 28.375 48.1875 33.59375 48.1875 \nQ 44.578125 48.1875 50.953125 41.515625 \nQ 57.328125 34.859375 57.328125 23.390625 \nQ 57.328125 12.15625 50.6875 5.359375 \nQ 44.046875 -1.421875 33.015625 -1.421875 \nQ 20.359375 -1.421875 13.671875 8.265625 \nQ 6.984375 17.96875 6.984375 36.375 \nQ 6.984375 53.65625 15.1875 63.9375 \nQ 23.390625 74.21875 37.203125 74.21875 \nQ 40.921875 74.21875 44.703125 73.484375 \nQ 48.484375 72.75 52.59375 71.296875 \nz\n\" id=\"DejaVuSans-54\"/>\n       </defs>\n       <use xlink:href=\"#DejaVuSans-54\"/>\n      </g>\n     </g>\n    </g>\n    <g id=\"xtick_5\">\n     <g id=\"line2d_5\">\n      <g>\n       <use style=\"stroke:#000000;stroke-width:0.8;\" x=\"222.42776\" xlink:href=\"#mc4bd0eac6a\" y=\"226.479576\"/>\n      </g>\n     </g>\n     <g id=\"text_5\">\n      <!-- 8 -->\n      <g transform=\"translate(219.24651 241.078014)scale(0.1 -0.1)\">\n       <defs>\n        <path d=\"M 31.78125 34.625 \nQ 24.75 34.625 20.71875 30.859375 \nQ 16.703125 27.09375 16.703125 20.515625 \nQ 16.703125 13.921875 20.71875 10.15625 \nQ 24.75 6.390625 31.78125 6.390625 \nQ 38.8125 6.390625 42.859375 10.171875 \nQ 46.921875 13.96875 46.921875 20.515625 \nQ 46.921875 27.09375 42.890625 30.859375 \nQ 38.875 34.625 31.78125 34.625 \nz\nM 21.921875 38.8125 \nQ 15.578125 40.375 12.03125 44.71875 \nQ 8.5 49.078125 8.5 55.328125 \nQ 8.5 64.0625 14.71875 69.140625 \nQ 20.953125 74.21875 31.78125 74.21875 \nQ 42.671875 74.21875 48.875 69.140625 \nQ 55.078125 64.0625 55.078125 55.328125 \nQ 55.078125 49.078125 51.53125 44.71875 \nQ 48 40.375 41.703125 38.8125 \nQ 48.828125 37.15625 52.796875 32.3125 \nQ 56.78125 27.484375 56.78125 20.515625 \nQ 56.78125 9.90625 50.3125 4.234375 \nQ 43.84375 -1.421875 31.78125 -1.421875 \nQ 19.734375 -1.421875 13.25 4.234375 \nQ 6.78125 9.90625 6.78125 20.515625 \nQ 6.78125 27.484375 10.78125 32.3125 \nQ 14.796875 37.15625 21.921875 38.8125 \nz\nM 18.3125 54.390625 \nQ 18.3125 48.734375 21.84375 45.5625 \nQ 25.390625 42.390625 31.78125 42.390625 \nQ 38.140625 42.390625 41.71875 45.5625 \nQ 45.3125 48.734375 45.3125 54.390625 \nQ 45.3125 60.0625 41.71875 63.234375 \nQ 38.140625 66.40625 31.78125 66.40625 \nQ 25.390625 66.40625 21.84375 63.234375 \nQ 18.3125 60.0625 18.3125 54.390625 \nz\n\" id=\"DejaVuSans-56\"/>\n       </defs>\n       <use xlink:href=\"#DejaVuSans-56\"/>\n      </g>\n     </g>\n    </g>\n    <g id=\"xtick_6\">\n     <g id=\"line2d_6\">\n      <g>\n       <use style=\"stroke:#000000;stroke-width:0.8;\" x=\"265.908279\" xlink:href=\"#mc4bd0eac6a\" y=\"226.479576\"/>\n      </g>\n     </g>\n     <g id=\"text_6\">\n      <!-- 10 -->\n      <g transform=\"translate(259.545779 241.078014)scale(0.1 -0.1)\">\n       <defs>\n        <path d=\"M 12.40625 8.296875 \nL 28.515625 8.296875 \nL 28.515625 63.921875 \nL 10.984375 60.40625 \nL 10.984375 69.390625 \nL 28.421875 72.90625 \nL 38.28125 72.90625 \nL 38.28125 8.296875 \nL 54.390625 8.296875 \nL 54.390625 0 \nL 12.40625 0 \nz\n\" id=\"DejaVuSans-49\"/>\n       </defs>\n       <use xlink:href=\"#DejaVuSans-49\"/>\n       <use x=\"63.623047\" xlink:href=\"#DejaVuSans-48\"/>\n      </g>\n     </g>\n    </g>\n    <g id=\"xtick_7\">\n     <g id=\"line2d_7\">\n      <g>\n       <use style=\"stroke:#000000;stroke-width:0.8;\" x=\"309.388799\" xlink:href=\"#mc4bd0eac6a\" y=\"226.479576\"/>\n      </g>\n     </g>\n     <g id=\"text_7\">\n      <!-- 12 -->\n      <g transform=\"translate(303.026299 241.078014)scale(0.1 -0.1)\">\n       <use xlink:href=\"#DejaVuSans-49\"/>\n       <use x=\"63.623047\" xlink:href=\"#DejaVuSans-50\"/>\n      </g>\n     </g>\n    </g>\n    <g id=\"xtick_8\">\n     <g id=\"line2d_8\">\n      <g>\n       <use style=\"stroke:#000000;stroke-width:0.8;\" x=\"352.869318\" xlink:href=\"#mc4bd0eac6a\" y=\"226.479576\"/>\n      </g>\n     </g>\n     <g id=\"text_8\">\n      <!-- 14 -->\n      <g transform=\"translate(346.506818 241.078014)scale(0.1 -0.1)\">\n       <use xlink:href=\"#DejaVuSans-49\"/>\n       <use x=\"63.623047\" xlink:href=\"#DejaVuSans-52\"/>\n      </g>\n     </g>\n    </g>\n   </g>\n   <g id=\"matplotlib.axis_2\">\n    <g id=\"ytick_1\">\n     <g id=\"line2d_9\">\n      <defs>\n       <path d=\"M 0 0 \nL -3.5 0 \n\" id=\"meae613d37a\" style=\"stroke:#000000;stroke-width:0.8;\"/>\n      </defs>\n      <g>\n       <use style=\"stroke:#000000;stroke-width:0.8;\" x=\"33.2875\" xlink:href=\"#meae613d37a\" y=\"211.190759\"/>\n      </g>\n     </g>\n     <g id=\"text_9\">\n      <!-- 60 -->\n      <g transform=\"translate(13.5625 214.989978)scale(0.1 -0.1)\">\n       <use xlink:href=\"#DejaVuSans-54\"/>\n       <use x=\"63.623047\" xlink:href=\"#DejaVuSans-48\"/>\n      </g>\n     </g>\n    </g>\n    <g id=\"ytick_2\">\n     <g id=\"line2d_10\">\n      <g>\n       <use style=\"stroke:#000000;stroke-width:0.8;\" x=\"33.2875\" xlink:href=\"#meae613d37a\" y=\"186.166817\"/>\n      </g>\n     </g>\n     <g id=\"text_10\">\n      <!-- 65 -->\n      <g transform=\"translate(13.5625 189.966035)scale(0.1 -0.1)\">\n       <defs>\n        <path d=\"M 10.796875 72.90625 \nL 49.515625 72.90625 \nL 49.515625 64.59375 \nL 19.828125 64.59375 \nL 19.828125 46.734375 \nQ 21.96875 47.46875 24.109375 47.828125 \nQ 26.265625 48.1875 28.421875 48.1875 \nQ 40.625 48.1875 47.75 41.5 \nQ 54.890625 34.8125 54.890625 23.390625 \nQ 54.890625 11.625 47.5625 5.09375 \nQ 40.234375 -1.421875 26.90625 -1.421875 \nQ 22.3125 -1.421875 17.546875 -0.640625 \nQ 12.796875 0.140625 7.71875 1.703125 \nL 7.71875 11.625 \nQ 12.109375 9.234375 16.796875 8.0625 \nQ 21.484375 6.890625 26.703125 6.890625 \nQ 35.15625 6.890625 40.078125 11.328125 \nQ 45.015625 15.765625 45.015625 23.390625 \nQ 45.015625 31 40.078125 35.4375 \nQ 35.15625 39.890625 26.703125 39.890625 \nQ 22.75 39.890625 18.8125 39.015625 \nQ 14.890625 38.140625 10.796875 36.28125 \nz\n\" id=\"DejaVuSans-53\"/>\n       </defs>\n       <use xlink:href=\"#DejaVuSans-54\"/>\n       <use x=\"63.623047\" xlink:href=\"#DejaVuSans-53\"/>\n      </g>\n     </g>\n    </g>\n    <g id=\"ytick_3\">\n     <g id=\"line2d_11\">\n      <g>\n       <use style=\"stroke:#000000;stroke-width:0.8;\" x=\"33.2875\" xlink:href=\"#meae613d37a\" y=\"161.142874\"/>\n      </g>\n     </g>\n     <g id=\"text_11\">\n      <!-- 70 -->\n      <g transform=\"translate(13.5625 164.942093)scale(0.1 -0.1)\">\n       <defs>\n        <path d=\"M 8.203125 72.90625 \nL 55.078125 72.90625 \nL 55.078125 68.703125 \nL 28.609375 0 \nL 18.3125 0 \nL 43.21875 64.59375 \nL 8.203125 64.59375 \nz\n\" id=\"DejaVuSans-55\"/>\n       </defs>\n       <use xlink:href=\"#DejaVuSans-55\"/>\n       <use x=\"63.623047\" xlink:href=\"#DejaVuSans-48\"/>\n      </g>\n     </g>\n    </g>\n    <g id=\"ytick_4\">\n     <g id=\"line2d_12\">\n      <g>\n       <use style=\"stroke:#000000;stroke-width:0.8;\" x=\"33.2875\" xlink:href=\"#meae613d37a\" y=\"136.118932\"/>\n      </g>\n     </g>\n     <g id=\"text_12\">\n      <!-- 75 -->\n      <g transform=\"translate(13.5625 139.91815)scale(0.1 -0.1)\">\n       <use xlink:href=\"#DejaVuSans-55\"/>\n       <use x=\"63.623047\" xlink:href=\"#DejaVuSans-53\"/>\n      </g>\n     </g>\n    </g>\n    <g id=\"ytick_5\">\n     <g id=\"line2d_13\">\n      <g>\n       <use style=\"stroke:#000000;stroke-width:0.8;\" x=\"33.2875\" xlink:href=\"#meae613d37a\" y=\"111.094989\"/>\n      </g>\n     </g>\n     <g id=\"text_13\">\n      <!-- 80 -->\n      <g transform=\"translate(13.5625 114.894208)scale(0.1 -0.1)\">\n       <use xlink:href=\"#DejaVuSans-56\"/>\n       <use x=\"63.623047\" xlink:href=\"#DejaVuSans-48\"/>\n      </g>\n     </g>\n    </g>\n    <g id=\"ytick_6\">\n     <g id=\"line2d_14\">\n      <g>\n       <use style=\"stroke:#000000;stroke-width:0.8;\" x=\"33.2875\" xlink:href=\"#meae613d37a\" y=\"86.071046\"/>\n      </g>\n     </g>\n     <g id=\"text_14\">\n      <!-- 85 -->\n      <g transform=\"translate(13.5625 89.870265)scale(0.1 -0.1)\">\n       <use xlink:href=\"#DejaVuSans-56\"/>\n       <use x=\"63.623047\" xlink:href=\"#DejaVuSans-53\"/>\n      </g>\n     </g>\n    </g>\n    <g id=\"ytick_7\">\n     <g id=\"line2d_15\">\n      <g>\n       <use style=\"stroke:#000000;stroke-width:0.8;\" x=\"33.2875\" xlink:href=\"#meae613d37a\" y=\"61.047104\"/>\n      </g>\n     </g>\n     <g id=\"text_15\">\n      <!-- 90 -->\n      <g transform=\"translate(13.5625 64.846323)scale(0.1 -0.1)\">\n       <defs>\n        <path d=\"M 10.984375 1.515625 \nL 10.984375 10.5 \nQ 14.703125 8.734375 18.5 7.8125 \nQ 22.3125 6.890625 25.984375 6.890625 \nQ 35.75 6.890625 40.890625 13.453125 \nQ 46.046875 20.015625 46.78125 33.40625 \nQ 43.953125 29.203125 39.59375 26.953125 \nQ 35.25 24.703125 29.984375 24.703125 \nQ 19.046875 24.703125 12.671875 31.3125 \nQ 6.296875 37.9375 6.296875 49.421875 \nQ 6.296875 60.640625 12.9375 67.421875 \nQ 19.578125 74.21875 30.609375 74.21875 \nQ 43.265625 74.21875 49.921875 64.515625 \nQ 56.59375 54.828125 56.59375 36.375 \nQ 56.59375 19.140625 48.40625 8.859375 \nQ 40.234375 -1.421875 26.421875 -1.421875 \nQ 22.703125 -1.421875 18.890625 -0.6875 \nQ 15.09375 0.046875 10.984375 1.515625 \nz\nM 30.609375 32.421875 \nQ 37.25 32.421875 41.125 36.953125 \nQ 45.015625 41.5 45.015625 49.421875 \nQ 45.015625 57.28125 41.125 61.84375 \nQ 37.25 66.40625 30.609375 66.40625 \nQ 23.96875 66.40625 20.09375 61.84375 \nQ 16.21875 57.28125 16.21875 49.421875 \nQ 16.21875 41.5 20.09375 36.953125 \nQ 23.96875 32.421875 30.609375 32.421875 \nz\n\" id=\"DejaVuSans-57\"/>\n       </defs>\n       <use xlink:href=\"#DejaVuSans-57\"/>\n       <use x=\"63.623047\" xlink:href=\"#DejaVuSans-48\"/>\n      </g>\n     </g>\n    </g>\n    <g id=\"ytick_8\">\n     <g id=\"line2d_16\">\n      <g>\n       <use style=\"stroke:#000000;stroke-width:0.8;\" x=\"33.2875\" xlink:href=\"#meae613d37a\" y=\"36.023161\"/>\n      </g>\n     </g>\n     <g id=\"text_16\">\n      <!-- 95 -->\n      <g transform=\"translate(13.5625 39.82238)scale(0.1 -0.1)\">\n       <use xlink:href=\"#DejaVuSans-57\"/>\n       <use x=\"63.623047\" xlink:href=\"#DejaVuSans-53\"/>\n      </g>\n     </g>\n    </g>\n    <g id=\"ytick_9\">\n     <g id=\"line2d_17\">\n      <g>\n       <use style=\"stroke:#000000;stroke-width:0.8;\" x=\"33.2875\" xlink:href=\"#meae613d37a\" y=\"10.999219\"/>\n      </g>\n     </g>\n     <g id=\"text_17\">\n      <!-- 100 -->\n      <g transform=\"translate(7.2 14.798437)scale(0.1 -0.1)\">\n       <use xlink:href=\"#DejaVuSans-49\"/>\n       <use x=\"63.623047\" xlink:href=\"#DejaVuSans-48\"/>\n       <use x=\"127.246094\" xlink:href=\"#DejaVuSans-48\"/>\n      </g>\n     </g>\n    </g>\n   </g>\n   <g id=\"line2d_18\">\n    <path clip-path=\"url(#pd0be31b1c6)\" d=\"M 48.505682 198.038622 \nL 70.245942 163.256522 \nL 91.986201 136.681986 \nL 113.726461 126.289046 \nL 135.466721 121.484606 \nL 157.206981 83.566247 \nL 178.94724 48.650676 \nL 200.6875 44.930571 \nL 222.42776 29.349524 \nL 244.168019 24.111358 \nL 265.908279 25.329145 \nL 287.648539 22.343042 \nL 309.388799 23.861104 \nL 331.129058 18.923213 \nL 352.869318 22.960278 \n\" style=\"fill:none;stroke:#1f77b4;stroke-linecap:square;stroke-width:1.5;\"/>\n   </g>\n   <g id=\"line2d_19\">\n    <path clip-path=\"url(#pd0be31b1c6)\" d=\"M 48.505682 216.59594 \nL 70.245942 194.274588 \nL 91.986201 188.068661 \nL 113.726461 174.755905 \nL 135.466721 163.044718 \nL 157.206981 137.520266 \nL 178.94724 126.209472 \nL 200.6875 135.218068 \nL 222.42776 123.306685 \nL 244.168019 119.703231 \nL 265.908279 128.912062 \nL 287.648539 119.002564 \nL 309.388799 125.308608 \nL 331.129058 118.201818 \n\" style=\"fill:none;stroke:#ff7f0e;stroke-linecap:square;stroke-width:1.5;\"/>\n   </g>\n   <g id=\"patch_3\">\n    <path d=\"M 33.2875 226.479576 \nL 33.2875 9.039576 \n\" style=\"fill:none;stroke:#000000;stroke-linecap:square;stroke-linejoin:miter;stroke-width:0.8;\"/>\n   </g>\n   <g id=\"patch_4\">\n    <path d=\"M 368.0875 226.479576 \nL 368.0875 9.039576 \n\" style=\"fill:none;stroke:#000000;stroke-linecap:square;stroke-linejoin:miter;stroke-width:0.8;\"/>\n   </g>\n   <g id=\"patch_5\">\n    <path d=\"M 33.2875 226.479576 \nL 368.0875 226.479576 \n\" style=\"fill:none;stroke:#000000;stroke-linecap:square;stroke-linejoin:miter;stroke-width:0.8;\"/>\n   </g>\n   <g id=\"patch_6\">\n    <path d=\"M 33.2875 9.039576 \nL 368.0875 9.039576 \n\" style=\"fill:none;stroke:#000000;stroke-linecap:square;stroke-linejoin:miter;stroke-width:0.8;\"/>\n   </g>\n   <g id=\"legend_1\">\n    <g id=\"patch_7\">\n     <path d=\"M 40.2875 46.395826 \nL 111.026563 46.395826 \nQ 113.026563 46.395826 113.026563 44.395826 \nL 113.026563 16.039576 \nQ 113.026563 14.039576 111.026563 14.039576 \nL 40.2875 14.039576 \nQ 38.2875 14.039576 38.2875 16.039576 \nL 38.2875 44.395826 \nQ 38.2875 46.395826 40.2875 46.395826 \nz\n\" style=\"fill:#ffffff;opacity:0.8;stroke:#cccccc;stroke-linejoin:miter;\"/>\n    </g>\n    <g id=\"line2d_20\">\n     <path d=\"M 42.2875 22.138014 \nL 62.2875 22.138014 \n\" style=\"fill:none;stroke:#1f77b4;stroke-linecap:square;stroke-width:1.5;\"/>\n    </g>\n    <g id=\"line2d_21\"/>\n    <g id=\"text_18\">\n     <!-- training -->\n     <g transform=\"translate(70.2875 25.638014)scale(0.1 -0.1)\">\n      <defs>\n       <path d=\"M 18.3125 70.21875 \nL 18.3125 54.6875 \nL 36.8125 54.6875 \nL 36.8125 47.703125 \nL 18.3125 47.703125 \nL 18.3125 18.015625 \nQ 18.3125 11.328125 20.140625 9.421875 \nQ 21.96875 7.515625 27.59375 7.515625 \nL 36.8125 7.515625 \nL 36.8125 0 \nL 27.59375 0 \nQ 17.1875 0 13.234375 3.875 \nQ 9.28125 7.765625 9.28125 18.015625 \nL 9.28125 47.703125 \nL 2.6875 47.703125 \nL 2.6875 54.6875 \nL 9.28125 54.6875 \nL 9.28125 70.21875 \nz\n\" id=\"DejaVuSans-116\"/>\n       <path d=\"M 41.109375 46.296875 \nQ 39.59375 47.171875 37.8125 47.578125 \nQ 36.03125 48 33.890625 48 \nQ 26.265625 48 22.1875 43.046875 \nQ 18.109375 38.09375 18.109375 28.8125 \nL 18.109375 0 \nL 9.078125 0 \nL 9.078125 54.6875 \nL 18.109375 54.6875 \nL 18.109375 46.1875 \nQ 20.953125 51.171875 25.484375 53.578125 \nQ 30.03125 56 36.53125 56 \nQ 37.453125 56 38.578125 55.875 \nQ 39.703125 55.765625 41.0625 55.515625 \nz\n\" id=\"DejaVuSans-114\"/>\n       <path d=\"M 34.28125 27.484375 \nQ 23.390625 27.484375 19.1875 25 \nQ 14.984375 22.515625 14.984375 16.5 \nQ 14.984375 11.71875 18.140625 8.90625 \nQ 21.296875 6.109375 26.703125 6.109375 \nQ 34.1875 6.109375 38.703125 11.40625 \nQ 43.21875 16.703125 43.21875 25.484375 \nL 43.21875 27.484375 \nz\nM 52.203125 31.203125 \nL 52.203125 0 \nL 43.21875 0 \nL 43.21875 8.296875 \nQ 40.140625 3.328125 35.546875 0.953125 \nQ 30.953125 -1.421875 24.3125 -1.421875 \nQ 15.921875 -1.421875 10.953125 3.296875 \nQ 6 8.015625 6 15.921875 \nQ 6 25.140625 12.171875 29.828125 \nQ 18.359375 34.515625 30.609375 34.515625 \nL 43.21875 34.515625 \nL 43.21875 35.40625 \nQ 43.21875 41.609375 39.140625 45 \nQ 35.0625 48.390625 27.6875 48.390625 \nQ 23 48.390625 18.546875 47.265625 \nQ 14.109375 46.140625 10.015625 43.890625 \nL 10.015625 52.203125 \nQ 14.9375 54.109375 19.578125 55.046875 \nQ 24.21875 56 28.609375 56 \nQ 40.484375 56 46.34375 49.84375 \nQ 52.203125 43.703125 52.203125 31.203125 \nz\n\" id=\"DejaVuSans-97\"/>\n       <path d=\"M 9.421875 54.6875 \nL 18.40625 54.6875 \nL 18.40625 0 \nL 9.421875 0 \nz\nM 9.421875 75.984375 \nL 18.40625 75.984375 \nL 18.40625 64.59375 \nL 9.421875 64.59375 \nz\n\" id=\"DejaVuSans-105\"/>\n       <path d=\"M 54.890625 33.015625 \nL 54.890625 0 \nL 45.90625 0 \nL 45.90625 32.71875 \nQ 45.90625 40.484375 42.875 44.328125 \nQ 39.84375 48.1875 33.796875 48.1875 \nQ 26.515625 48.1875 22.3125 43.546875 \nQ 18.109375 38.921875 18.109375 30.90625 \nL 18.109375 0 \nL 9.078125 0 \nL 9.078125 54.6875 \nL 18.109375 54.6875 \nL 18.109375 46.1875 \nQ 21.34375 51.125 25.703125 53.5625 \nQ 30.078125 56 35.796875 56 \nQ 45.21875 56 50.046875 50.171875 \nQ 54.890625 44.34375 54.890625 33.015625 \nz\n\" id=\"DejaVuSans-110\"/>\n       <path d=\"M 45.40625 27.984375 \nQ 45.40625 37.75 41.375 43.109375 \nQ 37.359375 48.484375 30.078125 48.484375 \nQ 22.859375 48.484375 18.828125 43.109375 \nQ 14.796875 37.75 14.796875 27.984375 \nQ 14.796875 18.265625 18.828125 12.890625 \nQ 22.859375 7.515625 30.078125 7.515625 \nQ 37.359375 7.515625 41.375 12.890625 \nQ 45.40625 18.265625 45.40625 27.984375 \nz\nM 54.390625 6.78125 \nQ 54.390625 -7.171875 48.1875 -13.984375 \nQ 42 -20.796875 29.203125 -20.796875 \nQ 24.46875 -20.796875 20.265625 -20.09375 \nQ 16.0625 -19.390625 12.109375 -17.921875 \nL 12.109375 -9.1875 \nQ 16.0625 -11.328125 19.921875 -12.34375 \nQ 23.78125 -13.375 27.78125 -13.375 \nQ 36.625 -13.375 41.015625 -8.765625 \nQ 45.40625 -4.15625 45.40625 5.171875 \nL 45.40625 9.625 \nQ 42.625 4.78125 38.28125 2.390625 \nQ 33.9375 0 27.875 0 \nQ 17.828125 0 11.671875 7.65625 \nQ 5.515625 15.328125 5.515625 27.984375 \nQ 5.515625 40.671875 11.671875 48.328125 \nQ 17.828125 56 27.875 56 \nQ 33.9375 56 38.28125 53.609375 \nQ 42.625 51.21875 45.40625 46.390625 \nL 45.40625 54.6875 \nL 54.390625 54.6875 \nz\n\" id=\"DejaVuSans-103\"/>\n      </defs>\n      <use xlink:href=\"#DejaVuSans-116\"/>\n      <use x=\"39.208984\" xlink:href=\"#DejaVuSans-114\"/>\n      <use x=\"80.322266\" xlink:href=\"#DejaVuSans-97\"/>\n      <use x=\"141.601562\" xlink:href=\"#DejaVuSans-105\"/>\n      <use x=\"169.384766\" xlink:href=\"#DejaVuSans-110\"/>\n      <use x=\"232.763672\" xlink:href=\"#DejaVuSans-105\"/>\n      <use x=\"260.546875\" xlink:href=\"#DejaVuSans-110\"/>\n      <use x=\"323.925781\" xlink:href=\"#DejaVuSans-103\"/>\n     </g>\n    </g>\n    <g id=\"line2d_22\">\n     <path d=\"M 42.2875 36.816139 \nL 62.2875 36.816139 \n\" style=\"fill:none;stroke:#ff7f0e;stroke-linecap:square;stroke-width:1.5;\"/>\n    </g>\n    <g id=\"line2d_23\"/>\n    <g id=\"text_19\">\n     <!-- testing -->\n     <g transform=\"translate(70.2875 40.316139)scale(0.1 -0.1)\">\n      <defs>\n       <path d=\"M 56.203125 29.59375 \nL 56.203125 25.203125 \nL 14.890625 25.203125 \nQ 15.484375 15.921875 20.484375 11.0625 \nQ 25.484375 6.203125 34.421875 6.203125 \nQ 39.59375 6.203125 44.453125 7.46875 \nQ 49.3125 8.734375 54.109375 11.28125 \nL 54.109375 2.78125 \nQ 49.265625 0.734375 44.1875 -0.34375 \nQ 39.109375 -1.421875 33.890625 -1.421875 \nQ 20.796875 -1.421875 13.15625 6.1875 \nQ 5.515625 13.8125 5.515625 26.8125 \nQ 5.515625 40.234375 12.765625 48.109375 \nQ 20.015625 56 32.328125 56 \nQ 43.359375 56 49.78125 48.890625 \nQ 56.203125 41.796875 56.203125 29.59375 \nz\nM 47.21875 32.234375 \nQ 47.125 39.59375 43.09375 43.984375 \nQ 39.0625 48.390625 32.421875 48.390625 \nQ 24.90625 48.390625 20.390625 44.140625 \nQ 15.875 39.890625 15.1875 32.171875 \nz\n\" id=\"DejaVuSans-101\"/>\n       <path d=\"M 44.28125 53.078125 \nL 44.28125 44.578125 \nQ 40.484375 46.53125 36.375 47.5 \nQ 32.28125 48.484375 27.875 48.484375 \nQ 21.1875 48.484375 17.84375 46.4375 \nQ 14.5 44.390625 14.5 40.28125 \nQ 14.5 37.15625 16.890625 35.375 \nQ 19.28125 33.59375 26.515625 31.984375 \nL 29.59375 31.296875 \nQ 39.15625 29.25 43.1875 25.515625 \nQ 47.21875 21.78125 47.21875 15.09375 \nQ 47.21875 7.46875 41.1875 3.015625 \nQ 35.15625 -1.421875 24.609375 -1.421875 \nQ 20.21875 -1.421875 15.453125 -0.5625 \nQ 10.6875 0.296875 5.421875 2 \nL 5.421875 11.28125 \nQ 10.40625 8.6875 15.234375 7.390625 \nQ 20.0625 6.109375 24.8125 6.109375 \nQ 31.15625 6.109375 34.5625 8.28125 \nQ 37.984375 10.453125 37.984375 14.40625 \nQ 37.984375 18.0625 35.515625 20.015625 \nQ 33.0625 21.96875 24.703125 23.78125 \nL 21.578125 24.515625 \nQ 13.234375 26.265625 9.515625 29.90625 \nQ 5.8125 33.546875 5.8125 39.890625 \nQ 5.8125 47.609375 11.28125 51.796875 \nQ 16.75 56 26.8125 56 \nQ 31.78125 56 36.171875 55.265625 \nQ 40.578125 54.546875 44.28125 53.078125 \nz\n\" id=\"DejaVuSans-115\"/>\n      </defs>\n      <use xlink:href=\"#DejaVuSans-116\"/>\n      <use x=\"39.208984\" xlink:href=\"#DejaVuSans-101\"/>\n      <use x=\"100.732422\" xlink:href=\"#DejaVuSans-115\"/>\n      <use x=\"152.832031\" xlink:href=\"#DejaVuSans-116\"/>\n      <use x=\"192.041016\" xlink:href=\"#DejaVuSans-105\"/>\n      <use x=\"219.824219\" xlink:href=\"#DejaVuSans-110\"/>\n      <use x=\"283.203125\" xlink:href=\"#DejaVuSans-103\"/>\n     </g>\n    </g>\n   </g>\n  </g>\n </g>\n <defs>\n  <clipPath id=\"pd0be31b1c6\">\n   <rect height=\"217.44\" width=\"334.8\" x=\"33.2875\" y=\"9.039576\"/>\n  </clipPath>\n </defs>\n</svg>\n",
            "image/png": "[encoded data removed]"
          },
          "metadata": {
            "needs_background": "light"
          }
        }
      ],
      "source": [
        "plt.plot([b for a, b in train_acc], label=\"training\")\n",
        "plt.plot([b for a, b in test_acc], label=\"testing\")\n",
        "plt.legend()\n",
        "plt.show()"
      ]
    },
    {
      "cell_type": "code",
      "execution_count": 8,
      "metadata": {},
      "outputs": [
        {
          "output_type": "stream",
          "text": [
            "\u001b[0;31mSignature:\u001b[0m\n",
            "\u001b[0mth\u001b[0m\u001b[0;34m.\u001b[0m\u001b[0mload\u001b[0m\u001b[0;34m(\u001b[0m\u001b[0;34m\u001b[0m\n",
            "\u001b[0;34m\u001b[0m    \u001b[0mf\u001b[0m\u001b[0;34m,\u001b[0m\u001b[0;34m\u001b[0m\n",
            "\u001b[0;34m\u001b[0m    \u001b[0mmap_location\u001b[0m\u001b[0;34m=\u001b[0m\u001b[0;32mNone\u001b[0m\u001b[0;34m,\u001b[0m\u001b[0;34m\u001b[0m\n",
            "\u001b[0;34m\u001b[0m    \u001b[0mpickle_module\u001b[0m\u001b[0;34m=\u001b[0m\u001b[0;34m<\u001b[0m\u001b[0mmodule\u001b[0m \u001b[0;34m'pickle'\u001b[0m \u001b[0;32mfrom\u001b[0m \u001b[0;34m'/home/theodor/anaconda3/lib/python3.8/pickle.py'\u001b[0m\u001b[0;34m>\u001b[0m\u001b[0;34m,\u001b[0m\u001b[0;34m\u001b[0m\n",
            "\u001b[0;34m\u001b[0m    \u001b[0;34m**\u001b[0m\u001b[0mpickle_load_args\u001b[0m\u001b[0;34m,\u001b[0m\u001b[0;34m\u001b[0m\n",
            "\u001b[0;34m\u001b[0m\u001b[0;34m)\u001b[0m\u001b[0;34m\u001b[0m\u001b[0;34m\u001b[0m\u001b[0m\n",
            "\u001b[0;31mDocstring:\u001b[0m\n",
            "Loads an object saved with :func:`torch.save` from a file.\n",
            "\n",
            ":func:`torch.load` uses Python's unpickling facilities but treats storages,\n",
            "which underlie tensors, specially. They are first deserialized on the\n",
            "CPU and are then moved to the device they were saved from. If this fails\n",
            "(e.g. because the run time system doesn't have certain devices), an exception\n",
            "is raised. However, storages can be dynamically remapped to an alternative\n",
            "set of devices using the :attr:`map_location` argument.\n",
            "\n",
            "If :attr:`map_location` is a callable, it will be called once for each serialized\n",
            "storage with two arguments: storage and location. The storage argument\n",
            "will be the initial deserialization of the storage, residing on the CPU.\n",
            "Each serialized storage has a location tag associated with it which\n",
            "identifies the device it was saved from, and this tag is the second\n",
            "argument passed to :attr:`map_location`. The builtin location tags are ``'cpu'``\n",
            "for CPU tensors and ``'cuda:device_id'`` (e.g. ``'cuda:2'``) for CUDA tensors.\n",
            ":attr:`map_location` should return either ``None`` or a storage. If\n",
            ":attr:`map_location` returns a storage, it will be used as the final deserialized\n",
            "object, already moved to the right device. Otherwise, :func:`torch.load` will\n",
            "fall back to the default behavior, as if :attr:`map_location` wasn't specified.\n",
            "\n",
            "If :attr:`map_location` is a :class:`torch.device` object or a string containing\n",
            "a device tag, it indicates the location where all tensors should be loaded.\n",
            "\n",
            "Otherwise, if :attr:`map_location` is a dict, it will be used to remap location tags\n",
            "appearing in the file (keys), to ones that specify where to put the\n",
            "storages (values).\n",
            "\n",
            "User extensions can register their own location tags and tagging and\n",
            "deserialization methods using :func:`torch.serialization.register_package`.\n",
            "\n",
            "Args:\n",
            "    f: a file-like object (has to implement :meth:`read`, :meth:`readline`, :meth:`tell`, and :meth:`seek`),\n",
            "        or a string or os.PathLike object containing a file name\n",
            "    map_location: a function, :class:`torch.device`, string or a dict specifying how to remap storage\n",
            "        locations\n",
            "    pickle_module: module used for unpickling metadata and objects (has to\n",
            "        match the :attr:`pickle_module` used to serialize file)\n",
            "    pickle_load_args: (Python 3 only) optional keyword arguments passed over to\n",
            "        :func:`pickle_module.load` and :func:`pickle_module.Unpickler`, e.g.,\n",
            "        :attr:`errors=...`.\n",
            "\n",
            ".. warning::\n",
            "    :func:`torch.load()` uses ``pickle`` module implicitly, which is known to be insecure.\n",
            "    It is possible to construct malicious pickle data which will execute arbitrary code\n",
            "    during unpickling. Never load data that could have come from an untrusted\n",
            "    source, or that could have been tampered with. **Only load data you trust**.\n",
            "\n",
            ".. note::\n",
            "    When you call :func:`torch.load()` on a file which contains GPU tensors, those tensors\n",
            "    will be loaded to GPU by default. You can call ``torch.load(.., map_location='cpu')``\n",
            "    and then :meth:`load_state_dict` to avoid GPU RAM surge when loading a model checkpoint.\n",
            "\n",
            ".. note::\n",
            "    By default, we decode byte strings as ``utf-8``.  This is to avoid a common error\n",
            "    case ``UnicodeDecodeError: 'ascii' codec can't decode byte 0x...``\n",
            "    when loading files saved by Python 2 in Python 3.  If this default\n",
            "    is incorrect, you may use an extra :attr:`encoding` keyword argument to specify how\n",
            "    these objects should be loaded, e.g., :attr:`encoding='latin1'` decodes them\n",
            "    to strings using ``latin1`` encoding, and :attr:`encoding='bytes'` keeps them\n",
            "    as byte arrays which can be decoded later with ``byte_array.decode(...)``.\n",
            "\n",
            "Example:\n",
            "    >>> torch.load('tensors.pt')\n",
            "    # Load all tensors onto the CPU\n",
            "    >>> torch.load('tensors.pt', map_location=torch.device('cpu'))\n",
            "    # Load all tensors onto the CPU, using a function\n",
            "    >>> torch.load('tensors.pt', map_location=lambda storage, loc: storage)\n",
            "    # Load all tensors onto GPU 1\n",
            "    >>> torch.load('tensors.pt', map_location=lambda storage, loc: storage.cuda(1))\n",
            "    # Map tensors from GPU 1 to GPU 0\n",
            "    >>> torch.load('tensors.pt', map_location={'cuda:1':'cuda:0'})\n",
            "    # Load tensor from io.BytesIO object\n",
            "    >>> with open('tensor.pt', 'rb') as f:\n",
            "    ...     buffer = io.BytesIO(f.read())\n",
            "    >>> torch.load(buffer)\n",
            "    # Load a module with 'ascii' encoding for unpickling\n",
            "    >>> torch.load('module.pt', encoding='ascii')\n",
            "\u001b[0;31mFile:\u001b[0m      ~/anaconda3/lib/python3.8/site-packages/torch/serialization.py\n",
            "\u001b[0;31mType:\u001b[0m      function\n"
          ],
          "name": "stdout"
        }
      ],
      "source": [
        "?th.load"
      ]
    },
    {
      "cell_type": "code",
      "metadata": {
        "id": "8uPnmRHxvvT7",
        "colab": {
          "base_uri": "https://localhost:8080/",
          "height": 17
        },
        "outputId": "c72ad8fa-f071-41ef-f239-134d55746280"
      },
      "source": [
        "# Save / load model\n",
        "# net = Model()\n",
        "net = th.load(\"model.td\")\n",
        "# th.save(net, \"model.td\")"
      ],
      "execution_count": 6,
      "outputs": []
    },
    {
      "cell_type": "code",
      "metadata": {
        "id": "0rKoHQqcvvT7",
        "outputId": "b7c34932-b7ba-49a4-8176-d3cc6bda3fd6"
      },
      "source": [
        "# Generate test output.\n",
        "\n",
        "with open(\"submission.txt\", \"w\") as out_file:\n",
        "    out_file.write(\"id,label\\n\")\n",
        "    print(\"Generating submission: \")\n",
        "\n",
        "    for id in range(len(test_dataset)):\n",
        "        if id % 400 == 0:\n",
        "            print(str(round(id / len(test_dataset) * 100)) + \"%\", end=\" \")\n",
        "\n",
        "        img = test_dataset[id]\n",
        "        out = net(img.reshape(1, IMAGE_DIM, IMAGE_DIM))\n",
        "        label = out.argmax(dim=1)[0]\n",
        "\n",
        "        out_file.write(test_dataset.NameOfItem(id) + \",\" + str(label.item()) + \"\\n\")\n",
        "    \n",
        "    print(\"Done!\")\n"
      ],
      "execution_count": null,
      "outputs": [
        {
          "output_type": "stream",
          "text": [
            "Generating submission: \n",
            "0% 8% 16% 24% 32% 40% 48% 56% 64% 72% 80% 88% 96% Done!\n"
          ],
          "name": "stdout"
        }
      ]
    },
    {
      "cell_type": "code",
      "execution_count": null,
      "metadata": {},
      "outputs": [],
      "source": [
        "class ModelTransfer(torch.nn.Module):\n",
        "    def __init__(self):\n",
        "        super().__init__()\n",
        "\n",
        "        self.model = models.resnet18(pretrained=True)\n",
        "        self.final_fc = nn.Linear(1000, 9)\n",
        "\n",
        "    def forward(self, x):\n",
        "        x = self.model(x)\n",
        "        s = self.final_fc(x)\n",
        "\n",
        "        return x\n",
        "\n",
        "class Model1(torch.nn.Module):\n",
        "    def __init__(self):\n",
        "        super().__init__()\n",
        "\n",
        "        self.model = nn.Sequential(\n",
        "            nn.BatchNorm2d(3),\n",
        "            nn.Conv2d(3, 16, 3, stride=1, padding=1),\n",
        "            nn.ReLU(),\n",
        "            nn.Dropout2d(0.1),\n",
        "            nn.Conv2d(16, 32, 3, stride=1, padding=1),\n",
        "            nn.ReLU(),\n",
        "            nn.Dropout2d(0.2),\n",
        "            nn.BatchNorm2d(32),\n",
        "            nn.Conv2d(32, 32, 3, stride=1, padding=1),\n",
        "            \n",
        "            nn.MaxPool2d(2),\n",
        "            \n",
        "            nn.BatchNorm2d(32),\n",
        "            nn.ReLU(),\n",
        "            nn.Dropout2d(0.2),\n",
        "            nn.Conv2d(32, 64, 3, stride=1, padding=1),\n",
        "            nn.ReLU(),\n",
        "            nn.Dropout2d(0.1),\n",
        "            nn.Conv2d(64, 64, 3, stride=1, padding=1),\n",
        "            \n",
        "            nn.MaxPool2d(2),\n",
        "            \n",
        "            nn.BatchNorm2d(64),\n",
        "            nn.ReLU(),\n",
        "            nn.Dropout2d(0.2),\n",
        "            nn.Conv2d(64, 128, 3, stride=1, padding=1),\n",
        "            \n",
        "            nn.MaxPool2d(2),\n",
        "            \n",
        "            nn.BatchNorm2d(128),\n",
        "            nn.ReLU(),\n",
        "            nn.Dropout2d(0.2),\n",
        "            nn.Conv2d(128, 128, 3, stride=1, padding=1),\n",
        "            nn.ReLU(),\n",
        "\n",
        "            nn.Flatten(),\n",
        "            \n",
        "            nn.Dropout(0.15),\n",
        "            nn.Linear(16 * 128, 100),\n",
        "            nn.BatchNorm1d(100),\n",
        "            nn.ReLU(),\n",
        "            nn.Dropout2d(0.15),\n",
        "            nn.Linear(100, 9)    \n",
        "        )\n",
        "\n",
        "    def forward(self, x):\n",
        "        x = self.model(x)\n",
        "\n",
        "        return x\n",
        "\n",
        "!wget https://github.com/theodormoroianu/AI/blob/master/dataset.zip\\?raw=true > /dev/null 2> /dev/null\n",
        "!unzip dataset.zip?raw=true > /dev/null\n",
        "\n",
        "def deal_with_data(data_type: str):\n",
        "    folder = data_type + \"_folder\"\n",
        "    try:\n",
        "        mkdir(folder)\n",
        "        for i in range(9):\n",
        "            mkdir(folder + \"/\" + str(i))\n",
        "    except Exception:\n",
        "        pass\n",
        "    content = pd.read_csv(data_type + \".txt\", header=None)\n",
        "    for i in range(len(content)):\n",
        "        name, label = content[0][i], content[1][i]\n",
        "        copyfile(data_type + \"/\" + name, folder + \"/\" + str(label) + \"/\" + name)\n",
        "\n",
        "deal_with_data(\"train\")\n",
        "deal_with_data(\"validation\")\n",
        "\n",
        "try:\n",
        "    mkdir(\"test_folder\")\n",
        "    copytree(\"test\", \"test_folder/test\")\n",
        "except Exception:\n",
        "    pass"
      ]
    },
    {
      "cell_type": "code",
      "execution_count": 4,
      "metadata": {},
      "outputs": [],
      "source": [
        "def deal_with_data(data_type: str):\n",
        "    folder = data_type + \"_folder\"\n",
        "    try:\n",
        "        mkdir(folder)\n",
        "        for i in range(3):\n",
        "            mkdir(folder + \"/\" + str(i))\n",
        "    except Exception:\n",
        "        pass\n",
        "    content = pd.read_csv(data_type + \".txt\", header=None)\n",
        "    for i in range(len(content)):\n",
        "        name, label = content[0][i], content[1][i]\n",
        "        copyfile(data_type + \"/\" + name, folder + \"/\" + str(label) + \"/\" + name)\n",
        "\n",
        "deal_with_data(\"train\")\n",
        "deal_with_data(\"validation\")\n",
        "\n",
        "try:\n",
        "    mkdir(\"test_folder\")\n",
        "    copytree(\"test\", \"test_folder/test\")\n",
        "except Exception:\n",
        "    pass"
      ]
    },
    {
      "cell_type": "code",
      "execution_count": null,
      "metadata": {},
      "outputs": [],
      "source": []
    }
  ]
}